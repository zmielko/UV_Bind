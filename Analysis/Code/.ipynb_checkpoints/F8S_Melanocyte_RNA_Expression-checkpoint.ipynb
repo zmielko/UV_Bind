{
 "cells": [
  {
   "cell_type": "markdown",
   "metadata": {},
   "source": [
    "### Melanocyte RNA Expression Analysis"
   ]
  },
  {
   "cell_type": "code",
   "execution_count": 5,
   "metadata": {},
   "outputs": [],
   "source": [
    "import os\n",
    "\n",
    "import bokeh.io\n",
    "from bokeh.layouts import gridplot\n",
    "from bokeh.palettes import Category10\n",
    "from bokeh.plotting import figure, show, ColumnDataSource\n",
    "from bokeh.models import HoverTool, BooleanFilter, CDSView, ColumnDataSource, GroupFilter\n",
    "from bokeh.io import export_png, export_svg\n",
    "from bokeh.models import Span\n",
    "from bokeh.models import ColumnDataSource, Grid, HBar, LinearAxis, Plot\n",
    "import pandas as pd\n",
    "import numpy as np\n",
    "\n",
    "LAMBERT_DATA = \"../../Data/External_Data/ETS1_TFs_Lambert_et_al.csv\"\n",
    "SINGLE_CELL_EXPRESSION = \"../../Data/External_Data/rna_single_cell_type.tsv\"\n",
    "DDB2_ENSG = \"ENSG00000134574\"\n",
    "OUTPUT_FOLDER = \"../Figure_S8\"\n",
    "TISSUE = \"Melanocytes\""
   ]
  },
  {
   "cell_type": "markdown",
   "metadata": {},
   "source": [
    "ADD DESCRIPTION!!!!"
   ]
  },
  {
   "cell_type": "code",
   "execution_count": 6,
   "metadata": {},
   "outputs": [
    {
     "data": {
      "text/plain": [
       "['../Figure_S7/Gene_Expression_Melanocyte.svg']"
      ]
     },
     "execution_count": 6,
     "metadata": {},
     "output_type": "execute_result"
    }
   ],
   "source": [
    "# Setup set of ENSG IDs to make a barplot of\n",
    "ets1_tfs = pd.read_csv(LAMBERT_DATA, header=None)\n",
    "ensg_id_list = list(ets1_tfs[0])\n",
    "ensg_id_list.append(DDB2_ENSG)\n",
    "ensg_id_set = set(ensg_id_list)\n",
    "# Query for Melanocytes\n",
    "expression_df = pd.read_csv(SINGLE_CELL_EXPRESSION, sep='\\t')\n",
    "expression_df = expression_df[(expression_df[\"Cell type\"] == TISSUE) &\n",
    "                             (expression_df[\"Gene\"].isin(ensg_id_set))]\n",
    "expression_df = expression_df.reset_index(drop=True)\n",
    "expression_df[\"Color\"] = expression_df[\"Gene name\"].apply(lambda x: \"#2b8cbe\" if x == \"DDB2\" else 'black')\n",
    "expression_df = expression_df.sort_values(by=\"nTPM\").reset_index(drop=True)\n",
    "# Create barplot\n",
    "source=ColumnDataSource(expression_df)\n",
    "p = figure(y_range=expression_df[\"Gene name\"],\n",
    "           x_range=(0,130),\n",
    "           height=800,\n",
    "           width=800,\n",
    "           toolbar_location=None, tools=\"\")\n",
    "glyph = HBar(y=\"Gene name\",\n",
    "             right=\"nTPM\",\n",
    "             left=0,\n",
    "             height=0.8,\n",
    "             fill_color=\"Color\")\n",
    "p.add_glyph(source, glyph)\n",
    "#p.xgrid.grid_line_color = None\n",
    "p.x_range.start = 0\n",
    "p.xgrid.grid_line_color = None\n",
    "p.ygrid.grid_line_color = None\n",
    "show(p)\n",
    "p.output_backend='svg'\n",
    "export_svg(p, filename=f\"{OUTPUT_FOLDER}/Gene_Expression_Melanocyte.svg\")"
   ]
  },
  {
   "cell_type": "code",
   "execution_count": null,
   "metadata": {},
   "outputs": [],
   "source": []
  }
 ],
 "metadata": {
  "kernelspec": {
   "display_name": "Python 3 (ipykernel)",
   "language": "python",
   "name": "python3"
  },
  "language_info": {
   "codemirror_mode": {
    "name": "ipython",
    "version": 3
   },
   "file_extension": ".py",
   "mimetype": "text/x-python",
   "name": "python",
   "nbconvert_exporter": "python",
   "pygments_lexer": "ipython3",
   "version": "3.9.12"
  }
 },
 "nbformat": 4,
 "nbformat_minor": 4
}
