{
 "cells": [
  {
   "cell_type": "markdown",
   "metadata": {},
   "source": [
    "### Coefficient of determination across datasets for scaling\n",
    "\n",
    "For comparisons where the median signal is compared for UV and non-UV conditions, the UV values are scaled the non-UV based on sequences that cannot form pyrimidine dinucleotides and thus cannot form dimeric photoproducts. This analysis takes all datasets analyzed in this manner and calculates the coefficient of determination (R2). \n",
    "\n",
    "1. Table 1S\n",
    "\n",
    "### Files\n",
    "The following files are used to generate the data:\n",
    "\n",
    "1. ETS1_WC_ID8_alldata.txt\n",
    "1. ETS1_WC_ID9_alldata.txt\n",
    "1. ETS1_UV_ID10_alldata.txt\n",
    "1. ETS1_UV_ID11_alldata.txt\n",
    "1. STAT3_WC_ID8_alldata.txt\n",
    "1. STAT3_WC_ID8_alldata.txt\n",
    "1. STAT3_UV_ID8_alldata.txt\n",
    "1. STAT3_UV_ID8_alldata.txt\n",
    "1. CREB1_WC_ID8_alldata.txt\n",
    "1. CREB1_UV_ID8_alldata.txt\n",
    "1. CREB1_WC_ID8_alldata.txt\n",
    "1. CREB1_UV_ID8_alldata.txt\n",
    "1. EGR1_WC_ID8_alldata.txt\n",
    "1. EGR1_UV_ID8_alldata.txt\n",
    "1. EGR1_WC_ID8_alldata.txt\n",
    "1. EGR1_UV_ID8_alldata.txt\n",
    "\n",
    "\n",
    "### Overview\n",
    "\n",
    "When comparing datasets, UV values are scaled on non-UV values by taking all sequences without pyrimidine dinucleotides (which cannot form pyrimidine dimer photoproducts), training a linear regression model, and then adjusting the slope to be 1. This analysis generates a table showing all datasets scaled in this way with the coefficient of determination as well as a confidence interval. This provides insight into how reliable the scaling method is. \n",
    "\n",
    "Based on the results, the scaling method was not used for the ETS1 replicates but was used in all other cases. \n",
    "\n",
    "### 3rd Party Packages\n",
    "\n",
    "1. Bokeh - Plotting (Scatterplots)\n",
    "2. Matplotlib - Plotting (Boxplot)\n",
    "3. Numpy - ln function from np.log\n",
    "4. Pandas - Dataframe usage\n",
    "5. Seaborn - Plotting (Boxplots)\n",
    "6. Scipy - Linear regression\n",
    "7. Statsmodels: Multiple test correction\n",
    "\n",
    "### UV Bind Analysis Core Imports\n",
    "\n",
    "- uac.ols: Train OLS regression on sequences that cannot form pyrimidine dimers.\n",
    "- uac.scale_uv_on_non_uv: Scale UV probes on Non-UV by making the slope of a linear regression for sequences that cannot form pyrimidine dimers equal to 1. \n",
    "- uac.read_kmer_file_pair: Given a pair of k-mer files, reads them as dataframes and merges them into one.\n",
    "\n",
    "** Additional details can be found in the uvbind_analysis_core.py script.\n",
    "\n",
    "### Abbreviations:\n",
    "\n",
    "- pydi: Pyrimidine Dinucleotide\n",
    "- df: DataFrame\n",
    "- dn: Dinucleotide\n",
    "- idx: index"
   ]
  },
  {
   "cell_type": "code",
   "execution_count": null,
   "metadata": {},
   "outputs": [],
   "source": []
  }
 ],
 "metadata": {
  "kernelspec": {
   "display_name": "Python 3 (ipykernel)",
   "language": "python",
   "name": "python3"
  },
  "language_info": {
   "codemirror_mode": {
    "name": "ipython",
    "version": 3
   },
   "file_extension": ".py",
   "mimetype": "text/x-python",
   "name": "python",
   "nbconvert_exporter": "python",
   "pygments_lexer": "ipython3",
   "version": "3.9.12"
  }
 },
 "nbformat": 4,
 "nbformat_minor": 4
}
