{
 "cells": [
  {
   "cell_type": "markdown",
   "id": "6ec0023e",
   "metadata": {},
   "source": [
    "## Supplementary Table 6A: UV-preferred K-mer Occurance in Genomes\n",
    "\n",
    "Given a fasta file for human promoter regions, scans the file for occurances of UV-preferred k-mers. Generates the following output:\n",
    "\n",
    "1. Genomic k-mer counts (Table 6A)\n",
    "\n",
    "The percentage is saved to a text file for use in the text. The aggregate k-mer counts are saved as a csv file for use in Supplementary Table 6A.\n",
    "\n",
    "**Input Data Downloaded or Prepared:**\n",
    "1. chromFa.tar.gz - Human Genome, hg19, file per chromosome\n",
    "\n",
    "**Output Files**\n",
    "1. Supplementary_Table_6A_Genomic_Kmer_Counts.csv"
   ]
  },
  {
   "cell_type": "code",
   "execution_count": 8,
   "id": "749d450f",
   "metadata": {},
   "outputs": [],
   "source": [
    "from collections import defaultdict\n",
    "import multiprocessing as mp\n",
    "import os\n",
    "import subprocess\n",
    "\n",
    "from Bio import SeqIO\n",
    "from Bio.Seq import reverse_complement\n",
    "import numpy as np\n",
    "import pandas as pd\n",
    "\n",
    "# Location of UV preferred 6-mers\n",
    "KMER_6MER = \"../../Design/Concatinated_Kmers_Design/Data\"\n",
    "# Location of genomic files for analysis\n",
    "GENOME_DIR = f\"../Genomic_Analysis_Files\"\n",
    "# Location of human genome by chromosome\n",
    "CHR_FOLDER = f\"{GENOME_DIR}/chromFa\"\n",
    "# Output locations\n",
    "OUTPUT_DIR = \"../Table_S6\"\n",
    "# Threads to use for multicore parts of the notebook\n",
    "THREADS = 10"
   ]
  },
  {
   "cell_type": "code",
   "execution_count": 10,
   "id": "0badf971",
   "metadata": {},
   "outputs": [],
   "source": [
    "# Create output folders if not already present\n",
    "os.makedirs(OUTPUT_DIR, exist_ok=True)\n",
    "os.makedirs(GENOME_DIR, exist_ok=True)\n",
    "os.makedirs(CHR_FOLDER, exist_ok=True)"
   ]
  },
  {
   "cell_type": "markdown",
   "id": "527eddeb",
   "metadata": {},
   "source": [
    "#### (1) Download and extract chromosome data\n",
    "\n",
    "Downloads the hg19 genome by chromosome for use in k-mer calling."
   ]
  },
  {
   "cell_type": "code",
   "execution_count": 11,
   "id": "fceb22cd",
   "metadata": {},
   "outputs": [
    {
     "name": "stdout",
     "output_type": "stream",
     "text": [
      "chr1.fa\n",
      "chr10.fa\n",
      "chr11.fa\n",
      "chr11_gl000202_random.fa\n",
      "chr12.fa\n",
      "chr13.fa\n",
      "chr14.fa\n",
      "chr15.fa\n",
      "chr16.fa\n",
      "chr17.fa\n",
      "chr17_ctg5_hap1.fa\n",
      "chr17_gl000203_random.fa\n",
      "chr17_gl000204_random.fa\n",
      "chr17_gl000205_random.fa\n",
      "chr17_gl000206_random.fa\n",
      "chr18.fa\n",
      "chr18_gl000207_random.fa\n",
      "chr19.fa\n",
      "chr19_gl000208_random.fa\n",
      "chr19_gl000209_random.fa\n",
      "chr1_gl000191_random.fa\n",
      "chr1_gl000192_random.fa\n",
      "chr2.fa\n",
      "chr20.fa\n",
      "chr21.fa\n",
      "chr21_gl000210_random.fa\n",
      "chr22.fa\n",
      "chr3.fa\n",
      "chr4.fa\n",
      "chr4_ctg9_hap1.fa\n",
      "chr4_gl000193_random.fa\n",
      "chr4_gl000194_random.fa\n",
      "chr5.fa\n",
      "chr6.fa\n",
      "chr6_apd_hap1.fa\n",
      "chr6_cox_hap2.fa\n",
      "chr6_dbb_hap3.fa\n",
      "chr6_mann_hap4.fa\n",
      "chr6_mcf_hap5.fa\n",
      "chr6_qbl_hap6.fa\n",
      "chr6_ssto_hap7.fa\n",
      "chr7.fa\n",
      "chr7_gl000195_random.fa\n",
      "chr8.fa\n",
      "chr8_gl000196_random.fa\n",
      "chr8_gl000197_random.fa\n",
      "chr9.fa\n",
      "chr9_gl000198_random.fa\n",
      "chr9_gl000199_random.fa\n",
      "chr9_gl000200_random.fa\n",
      "chr9_gl000201_random.fa\n",
      "chrM.fa\n",
      "chrUn_gl000211.fa\n",
      "chrUn_gl000212.fa\n",
      "chrUn_gl000213.fa\n",
      "chrUn_gl000214.fa\n",
      "chrUn_gl000215.fa\n",
      "chrUn_gl000216.fa\n",
      "chrUn_gl000217.fa\n",
      "chrUn_gl000218.fa\n",
      "chrUn_gl000219.fa\n",
      "chrUn_gl000220.fa\n",
      "chrUn_gl000221.fa\n",
      "chrUn_gl000222.fa\n",
      "chrUn_gl000223.fa\n",
      "chrUn_gl000224.fa\n",
      "chrUn_gl000225.fa\n",
      "chrUn_gl000226.fa\n",
      "chrUn_gl000227.fa\n",
      "chrUn_gl000228.fa\n",
      "chrUn_gl000229.fa\n",
      "chrUn_gl000230.fa\n",
      "chrUn_gl000231.fa\n",
      "chrUn_gl000232.fa\n",
      "chrUn_gl000233.fa\n",
      "chrUn_gl000234.fa\n",
      "chrUn_gl000235.fa\n",
      "chrUn_gl000236.fa\n",
      "chrUn_gl000237.fa\n",
      "chrUn_gl000238.fa\n",
      "chrUn_gl000239.fa\n",
      "chrUn_gl000240.fa\n",
      "chrUn_gl000241.fa\n",
      "chrUn_gl000242.fa\n",
      "chrUn_gl000243.fa\n",
      "chrUn_gl000244.fa\n",
      "chrUn_gl000245.fa\n",
      "chrUn_gl000246.fa\n",
      "chrUn_gl000247.fa\n",
      "chrUn_gl000248.fa\n",
      "chrUn_gl000249.fa\n",
      "chrX.fa\n",
      "chrY.fa\n"
     ]
    }
   ],
   "source": [
    "%%bash -s \"$GENOME_DIR\" \"$CHR_FOLDER\"\n",
    "\n",
    "wget https://hgdownload.soe.ucsc.edu/goldenPath/hg19/bigZips/chromFa.tar.gz -O \"${1}/chromFa.tar.gz\"\n",
    "tar -xvzf \"${1}/chromFa.tar.gz\" -C \"${2}\""
   ]
  },
  {
   "cell_type": "markdown",
   "id": "986d0c49",
   "metadata": {},
   "source": [
    "#### (2) Functions"
   ]
  },
  {
   "cell_type": "code",
   "execution_count": 12,
   "id": "800176a8",
   "metadata": {},
   "outputs": [],
   "source": [
    "def uv_preferred_kmer_set(kmer_file):\n",
    "    kmers = pd.read_csv(kmer_file, sep='\\t', skiprows=7)\n",
    "    uvpref = kmers[kmers[\"Escore_UV9\"] > kmers[\"Prediction_Interval_Upper\"]].reset_index(drop=True)\n",
    "    uvpkmers = set(list(uvpref[\"kmerFwd\"]) + list(uvpref[\"kmerRC\"]))\n",
    "    return uvpkmers\n",
    "\n",
    "def count_kmers_sepstrd(sequence, to_dict, k=3):\n",
    "    for i in range(len(sequence) - k + 1):\n",
    "        kmer = sequence[i:i+k]\n",
    "        if \"N\" not in kmer:\n",
    "            to_dict[kmer] += 1\n",
    "\n",
    "def count_kmers(sequence, to_dict, k=6):\n",
    "    for i in range(len(sequence) - k + 1):\n",
    "        kmer = sequence[i:i+k]\n",
    "        if \"N\" not in kmer:\n",
    "            if kmer in to_dict:\n",
    "                to_dict[kmer] += 1\n",
    "            else:\n",
    "                to_dict[reverse_complement(kmer)] += 1\n",
    "            \n",
    "def count_chromosome_kmers(chromosome_file, to_dict, k=6):\n",
    "    prefix_idx = -1 * (k-1)\n",
    "    with open(chromosome_file) as file_obj:\n",
    "        next(file_obj) # Skip header\n",
    "        prefix = \"\" # Previous sequence that overlaps with the next\n",
    "        for i in file_obj:\n",
    "            line = prefix + i.strip().upper()\n",
    "            count_kmers(line, to_dict)\n",
    "            prefix = line[prefix_idx:]\n",
    "            \n",
    "def count_chromosome_kmers_pipeline(input_file, output_file, k=6):\n",
    "    result_dict = defaultdict(int)\n",
    "    count_chromosome_kmers(input_file, result_dict, k)\n",
    "    result_df = pd.DataFrame.from_dict(result_dict,\n",
    "                             orient='index').reset_index()\n",
    "    result_df = result_df.rename(columns={\"index\":\"Kmer\", 0:\"Count\"})\n",
    "    result_df.to_csv(output_file, index=False)"
   ]
  },
  {
   "cell_type": "markdown",
   "id": "c67ced8e",
   "metadata": {},
   "source": [
    "#### (3) Count k-mers across genome"
   ]
  },
  {
   "cell_type": "code",
   "execution_count": 13,
   "id": "a5632271",
   "metadata": {},
   "outputs": [],
   "source": [
    "# Define chromosome files to count k-mers\n",
    "CHR_FILES = []\n",
    "for i in range(1, 23):\n",
    "    CHR_FILES.append(f\"chr{i}.fa\")\n",
    "for i in ('X', \"Y\"):\n",
    "    CHR_FILES.append(f\"chr{i}.fa\")\n",
    "# Multithreaded counting of k-mers\n",
    "multiprocess_arguments = []\n",
    "for i in CHR_FILES:\n",
    "    multiprocess_arguments.append([f\"{CHR_FOLDER}/{i}\",\n",
    "                                   f\"{OUTPUT_DIR}/{i}_count.csv\"])\n",
    "pool = mp.Pool(THREADS)\n",
    "pool.starmap_async(count_chromosome_kmers_pipeline,\n",
    "                   multiprocess_arguments).get()\n",
    "pool.close()"
   ]
  },
  {
   "cell_type": "markdown",
   "id": "78ea7025",
   "metadata": {},
   "source": [
    "#### (4) Read UV_Preferred K-mers and organize as a dictionary of sets"
   ]
  },
  {
   "cell_type": "code",
   "execution_count": 14,
   "id": "74089436",
   "metadata": {},
   "outputs": [],
   "source": [
    "# Input files\n",
    "kmer_dict_files = ((\"CREB1\",f\"{KMER_6MER}/CREB1_0_1/OLS_CREB1_0_1_Escore.txt\"),\n",
    "                   (\"EGR1\", f\"{KMER_6MER}/EGR1_2_3/OLS_EGR1_2_3_Escore.txt\"))\n",
    "# From input files, return a dictionary where the key is the TF and value is a set of UV-preferred kmers\n",
    "kmer_dict = {}\n",
    "for tf, file in kmer_dict_files:\n",
    "    pref_kmers = uv_preferred_kmer_set(file)\n",
    "    kmer_dict[tf] = pref_kmers"
   ]
  },
  {
   "cell_type": "markdown",
   "id": "51d47a17",
   "metadata": {},
   "source": [
    "#### (5) Aggregate Counts Across Chromosomes and Categorize "
   ]
  },
  {
   "cell_type": "code",
   "execution_count": 15,
   "id": "5287e430",
   "metadata": {},
   "outputs": [
    {
     "name": "stdout",
     "output_type": "stream",
     "text": [
      "Genomic CREB1 UV preferred k-mers: 0.1988767252654194\n",
      "Genomic EGR1 UV preferred k-mers: 0.17668827525476083\n"
     ]
    }
   ],
   "source": [
    "# Create concatinated dataframe from all k-mer count files\n",
    "genomic_kmer_counts = []\n",
    "for chromosome in CHR_FILES:\n",
    "    genomic_kmer_counts.append(pd.read_csv(f\"{OUTPUT_DIR}/{chromosome}_count.csv\"))\n",
    "genomic_kmer_counts_df = pd.concat(genomic_kmer_counts).reset_index(drop=True)\n",
    "\n",
    "# Create a dictionary of k-mers with the counts per k-mer to aggregate counts\n",
    "genomic_kmer_counts_dict = defaultdict(int)\n",
    "for kmer, count in zip(genomic_kmer_counts_df[\"Kmer\"], genomic_kmer_counts_df[\"Count\"]):\n",
    "    if kmer in genomic_kmer_counts_dict:\n",
    "        genomic_kmer_counts_dict[kmer] += count\n",
    "    else:\n",
    "        genomic_kmer_counts_dict[reverse_complement(kmer)] += count\n",
    "\n",
    "# Use the dictionary to create a final dataframe\n",
    "result_df = pd.DataFrame.from_dict(genomic_kmer_counts_dict, orient=\"index\")\n",
    "result_df = result_df.reset_index().rename(columns={\"index\":\"Kmer\", 0:\"Count\"})\n",
    "total_kmer_count = sum(result_df[\"Count\"])\n",
    "result_df[\"CREB1_UV_Preferred\"] = result_df[\"Kmer\"].apply(lambda x: True if x in kmer_dict[\"CREB1\"] else False)\n",
    "result_df[\"EGR1_UV_Preferred\"] = result_df[\"Kmer\"].apply(lambda x: True if x in kmer_dict[\"EGR1\"] else False)\n",
    "result_df[\"Kmer_Orientation_B\"] = result_df[\"Kmer\"].apply(lambda x: reverse_complement(x))\n",
    "result_df = result_df[[\"Kmer\", \"Kmer_Orientation_B\", \"Count\", \"CREB1_UV_Preferred\", \"EGR1_UV_Preferred\"]]\n",
    "result_df = result_df.rename(columns={\"Kmer\":\"Kmer_Orientation_A\"})\n",
    "# Save as Supplementary Table 6A\n",
    "result_df.to_csv(f\"{OUTPUT_DIR}/Supplementary_Table_6A_Genomic_Kmer_Counts.csv\", index=False)\n",
    "# Print percent k-mers\n",
    "for tf in (\"CREB1\", \"EGR1\"):\n",
    "    percent = sum(result_df[result_df[f\"{tf}_UV_Preferred\"]][\"Count\"]) / total_kmer_count\n",
    "    print(f\"Genomic {tf} UV preferred k-mers: {percent}\")"
   ]
  },
  {
   "cell_type": "code",
   "execution_count": null,
   "id": "e39f53ce",
   "metadata": {},
   "outputs": [],
   "source": []
  }
 ],
 "metadata": {
  "kernelspec": {
   "display_name": "Python 3 (ipykernel)",
   "language": "python",
   "name": "python3"
  },
  "language_info": {
   "codemirror_mode": {
    "name": "ipython",
    "version": 3
   },
   "file_extension": ".py",
   "mimetype": "text/x-python",
   "name": "python",
   "nbconvert_exporter": "python",
   "pygments_lexer": "ipython3",
   "version": "3.9.12"
  }
 },
 "nbformat": 4,
 "nbformat_minor": 5
}
