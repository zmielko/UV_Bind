{
 "cells": [
  {
   "cell_type": "markdown",
   "metadata": {},
   "source": [
    "### Supplementary Figure 1\n",
    "\n",
    "This notebook contains the code used to count the number of pyrimidine dinucleotides in the UV-Bind universal sequence design and compare it to the original protein binding microarray design. \n",
    "\n",
    "### File Input and Output\n",
    "\n",
    "**Input:**\n",
    "\n",
    "| Input File | Associated Figure | Description |\n",
    "| --- | --- | --- |\n",
    "| Universal_UV_Bind_Meta_Data_All_9mer.csv | Supplementary Figure 1 | Library design for universal UV-Bind. |\n",
    "| 8x15k_v2_sequences.txt | Supplementary Figure 1 | Library design for universal PBMs |\n",
    "\n",
    "**Output:**\n",
    "\n",
    "Design_Comparison_Pyrimidine_Dinucleotide_Counts.csv - Counts for pyrimidine dinucleotides.\n",
    "\n",
    "### 3rd Party Packages\n",
    "\n",
    "1. Numpy - Array usage\n",
    "2. Pandas - Dataframe usage\n",
    "\n",
    "### UV Bind Analysis Core Imports\n",
    "\n",
    "- uac.count_overlapping_kmers: Counts overlapping k-mers from a given set\n",
    "- uac.PYDI: Tuple of pyrimidine dinucleotides in both orientations\n",
    "\n",
    "** Additional details can be found in the uvbind_analysis_core.py script.\n",
    "\n",
    "### Abbreviations:\n",
    "\n",
    "- df: DataFrame\n",
    "- pydi: Pyrimidine dinucleotide\n",
    "- seq: Sequence\n",
    "- seqs: Sequences\n",
    "- upbm: Universal protein binding microarray\n",
    "\n",
    "#### Imports and Global Variables"
   ]
  },
  {
   "cell_type": "code",
   "execution_count": 1,
   "metadata": {},
   "outputs": [],
   "source": [
    "from __future__ import annotations\n",
    "import os\n",
    "\n",
    "import pandas as pd\n",
    "import numpy as np\n",
    "\n",
    "import uvbind_analysis_core as uac\n",
    "\n",
    "UV_DESIGN_FILE = \"../../Design/Universal_UV_Bind/Universal_UV_Bind_Meta_Data_All_9mer.csv\"\n",
    "UPBM_DESIGN_FILE = \"../../Data/External_Data/8x15k_v2_sequences.txt\"\n",
    "OUTPUT_FOLDER = \"../Figure_S1\"\n",
    "OUTPUT_FILE = f\"{OUTPUT_FOLDER}/Design_Comparison_Pyrimidine_Dinucleotide_Counts.csv\""
   ]
  },
  {
   "cell_type": "code",
   "execution_count": 2,
   "metadata": {},
   "outputs": [],
   "source": [
    "# Create output folder if not already present\n",
    "os.makedirs(OUTPUT_FOLDER, exist_ok=True)"
   ]
  },
  {
   "cell_type": "markdown",
   "metadata": {},
   "source": [
    "### Comparing Pyrimidine Dinucleotide Counts Among Designs\n",
    "\n",
    "The median pyrimidine dinucleotide count for the 8x15k uPBM design and the universal UV-Bind sequences are calculated. Both designs give all possible 7-mers, with the 8x15k uPBM design being introduced with the Seed-and-Wobble method. "
   ]
  },
  {
   "cell_type": "code",
   "execution_count": 3,
   "metadata": {},
   "outputs": [],
   "source": [
    "def median_pydi_count(sequence_list: list[str]) -> float:\n",
    "    \"\"\"Return median count of pyrimidine dinucleotides in sequence iterable.\"\"\"\n",
    "    def pydi_count(sequence):\n",
    "        \"\"\"Return the count of pyrimidine dinucleotides in a single sequence.\"\"\"\n",
    "        return uac.count_overlapping_kmers(sequence, set(uac.PYDI), 2)\n",
    "    return np.median(list(map(pydi_count, sequence_list)))\n",
    "\n",
    "# Ensure output directory exists\n",
    "os.makedirs(OUTPUT_FOLDER, exist_ok=True)\n",
    "# Read uvbind design file\n",
    "uvbind_universal = pd.read_csv(UV_DESIGN_FILE)\n",
    "# Read original PBM design file\n",
    "upbm_design = pd.read_csv(UPBM_DESIGN_FILE, sep='\\t')\n",
    "upbm_design = upbm_design.dropna(subset=[\"Name\"])\n",
    "upbm_design = upbm_design[upbm_design[\"Name\"].str.startswith(\"9mer\")]\n",
    "ubpm_design = upbm_design.reset_index(drop=True)\n",
    "upbm_design[\"Universal_Seq\"] = upbm_design[\"Sequence\"].apply(lambda x: x[1:36])\n",
    "# Count uvbind values, save to output file\n",
    "file_object = open(OUTPUT_FILE, 'w')\n",
    "for seqs, label in ((uvbind_universal[\"Substring\"], \"UV_Bind_Universal\"),\n",
    "                    (uvbind_universal[\"Sequence\"], \"UV_Bind_Full\"),\n",
    "                    (upbm_design[\"Universal_Seq\"], \"UPBM_Universal\"),\n",
    "                    (upbm_design[\"Sequence\"], \"UPBM_Full\")):\n",
    "    count = median_pydi_count(seqs)\n",
    "    file_object.write(f\"{label},{count}\\n\")\n",
    "file_object.close()"
   ]
  }
 ],
 "metadata": {
  "kernelspec": {
   "display_name": "Python 3 (ipykernel)",
   "language": "python",
   "name": "python3"
  },
  "language_info": {
   "codemirror_mode": {
    "name": "ipython",
    "version": 3
   },
   "file_extension": ".py",
   "mimetype": "text/x-python",
   "name": "python",
   "nbconvert_exporter": "python",
   "pygments_lexer": "ipython3",
   "version": "3.9.12"
  }
 },
 "nbformat": 4,
 "nbformat_minor": 4
}
