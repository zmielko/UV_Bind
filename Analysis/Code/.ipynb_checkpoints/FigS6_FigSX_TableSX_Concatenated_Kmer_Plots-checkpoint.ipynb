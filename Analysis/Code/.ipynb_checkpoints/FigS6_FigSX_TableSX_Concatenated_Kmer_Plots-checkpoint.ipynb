{
 "cells": [
  {
   "cell_type": "markdown",
   "id": "6ec0023e",
   "metadata": {},
   "source": [
    "## Supplementary Figure 6; Supplementary Figure 7; Supplementary Table X\n",
    "\n",
    "\n",
    "### Overview\n",
    "\n",
    "**Supplementary Figure 6A**: Comparison of 6-mers and 7-mers\n",
    "\n",
    "**Supplementary Figure 6B**: OLS and preference scores for the k-mers\n",
    "\n",
    "**Supplementary Figure X**: UV-preferred Non-Consensus sites and genomic promoters\n",
    "\n",
    "\n",
    "### File Input and Output\n",
    "\n",
    "This notebook covers the analysis of the UV preferred k-mers. It takes as **input** the following files:\n",
    "\n",
    "\n",
    "| Input File | Associated Figure |\n",
    "| --- | --- |\n",
    "| CREB1_WC_ID0_7of9mers_1111111.txt | Supplementary Figure 6A |\n",
    "| CREB1_UV_ID1_7of9mers_1111111.txt | Supplementary Figure 6A |\n",
    "| EGR1_WC_ID2_7of9mers_1111111.txt | Supplementary Figure 6A |\n",
    "| EGR1_UV_ID3_7of9mers_1111111.txt | Supplementary Figure 6A |\n",
    "| OLS_CREB1_0_1_Escore.txt | Supplementary Figure 6A-B, X |\n",
    "| OLS_EGR1_2_3_Escore.txt | Supplementary Figure 6A-B, X |\n",
    "| upstream2000.fa | Supplementary Figure X |\n",
    "\n",
    "And generates the following **output**:\n",
    "\n",
    "\n",
    "| Output File | Associated Figure | Desciption |\n",
    "| --- | --- | --- |\n",
    "| Fig_S6A.png | Supplementary Figure 6A | The four scatterplots as a single image |\n",
    "| Fig_S6B_Replicates.svg | Supplementary Figure 6B | Left scatterplot in the figure for 6-mer replicates |\n",
    "| Fig_S6B_Comparison.svg | Supplementary Figure 6B | Right scatterplot in the figure for 6-mer OLS classification |\n",
    "\n",
    "\n",
    "#### Imports and Global Variables"
   ]
  },
  {
   "cell_type": "code",
   "execution_count": null,
   "id": "749d450f",
   "metadata": {},
   "outputs": [],
   "source": [
    "from collections import defaultdict\n",
    "import multiprocessing as mp\n",
    "import os\n",
    "import subprocess\n",
    "\n",
    "from Bio import SeqIO\n",
    "from bokeh.models import BooleanFilter, CDSView, GroupFilter, Label\n",
    "from bokeh.models import Grid, HBar, Span, IndexFilter, Text, VBar\n",
    "from bokeh.io import export_svg, output_notebook\n",
    "from bokeh.plotting import figure, output_file, ColumnDataSource, show\n",
    "import seaborn as sns\n",
    "from scipy.stats import fisher_exact\n",
    "import matplotlib\n",
    "import matplotlib.pyplot as plt\n",
    "from matplotlib_venn import venn2\n",
    "import numpy as np\n",
    "import pandas as pd\n",
    "\n",
    "import uvbind_analysis_core as uac\n",
    "\n",
    "KMER_7MER = \"../../Data/Kmer_Files\"\n",
    "KMER_6MER = \"../../Design/Concatinated_Kmers_Design/Data\"\n",
    "FIGURE_S6A_7MER_INPUT = ((0,\n",
    "                          f\"{KMER_7MER}/CREB1_WC_ID0_7of9mers_1111111.txt\",\n",
    "                          f\"{KMER_7MER}/CREB1_UV_ID1_7of9mers_1111111.txt\" ),\n",
    "                         (1,\n",
    "                          f\"{KMER_7MER}/EGR1_WC_ID2_7of9mers_1111111.txt\",\n",
    "                          f\"{KMER_7MER}/EGR1_UV_ID3_7of9mers_1111111.txt\"))\n",
    "FIGURE_S6A_6MER_INPUT = ((0,\n",
    "                          f\"{KMER_6MER}/CREB1_0_1/OLS_CREB1_0_1_Escore.txt\"),\n",
    "                         (1, \n",
    "                          f\"{KMER_6MER}/EGR1_2_3/OLS_EGR1_2_3_Escore.txt\"))\n",
    "FIGURE_S6B_INPUT = f\"{KMER_6MER}/CREB1_0_1/OLS_CREB1_0_1_Escore.txt\"\n",
    "COLORBAR_EDGE = 8.5\n",
    "PROMOTER_FILE = \"../../Data/External_Data/upstream2000.fa\"\n",
    "PWMS = \"../Table_S3/Table_S3A_PWM_Probabilities.csv\"\n",
    "OUTPUT = \"../Figure_S6\"\n",
    "OUTPUT_SX = \"../Figure_SX\"\n",
    "MUTATION_FILE=f\"{OUTPUT_SX}/skcm_mutations.bed\"\n",
    "OUTPUT_3MERS = f\"{OUTPUT_SX}/Promoter_3mers\"\n",
    "OUTPUT_TSX = f\"../Table_SX\"\n",
    "CHR_FOLDER = \"../../Data/External_Data/chromFa\"\n",
    "THREADS = 10"
   ]
  },
  {
   "cell_type": "code",
   "execution_count": null,
   "id": "0badf971",
   "metadata": {},
   "outputs": [],
   "source": [
    "# Create output folders if not already present\n",
    "os.makedirs(OUTPUT, exist_ok=True)\n",
    "os.makedirs(OUTPUT_SX, exist_ok=True)\n",
    "os.makedirs(OUTPUT_TSX, exist_ok=True)\n",
    "os.makedirs(OUTPUT_3MERS, exist_ok=True)"
   ]
  },
  {
   "cell_type": "code",
   "execution_count": null,
   "id": "7932614b",
   "metadata": {},
   "outputs": [],
   "source": [
    "# Adjust Coordinates (subtract start by 1) - Just done once\n",
    "with open(f\"{OUTPUT_SX}/skcm_mutations.bed\") as read_obj, open(f\"{OUTPUT_SX}/skcm_mutations_0base.bed\", 'w') as write_obj:\n",
    "    for line in read_obj:\n",
    "        chrom, start, end, wt, snp = line.strip().split()\n",
    "        start = int(start) - 1\n",
    "        #end = int(end) + 1\n",
    "        write_obj.write(f\"{chrom}\\t{start}\\t{end}\\t{wt}\\t{snp}\\n\")"
   ]
  },
  {
   "cell_type": "markdown",
   "id": "c9401c94",
   "metadata": {},
   "source": [
    "### Supplementary Figure 6A\n",
    "\n",
    "Supplementary Figure 6A plots 6-mers in Non-UV and UV conditions and compares the scatterplot to 7-mers. \n",
    "\n",
    "\n",
    "#### (1) Functions"
   ]
  },
  {
   "cell_type": "code",
   "execution_count": null,
   "id": "b8f1f217",
   "metadata": {},
   "outputs": [],
   "source": [
    "def add_escore_scatterplot(plot_df, x, y, ax):\n",
    "    \"\"\"Add a scatterplot to an ax object in a matplotlib figure.\"\"\"\n",
    "    sns.scatterplot(x=x,\n",
    "                    y=y,\n",
    "                    data=plot_df,\n",
    "                    ax=ax,\n",
    "                    linewidth=0,\n",
    "                    color=\"black\",\n",
    "                    legend=False,\n",
    "                    s=5)\n",
    "    ax.set_xlim(-0.52, 0.52)\n",
    "    ax.set_ylim(-0.52, 0.52)\n",
    "    plot_ticks = (-0.4, 0, 0.4)\n",
    "    ax.set_xticks(plot_ticks)\n",
    "    ax.set_yticks(plot_ticks)\n",
    "    ax.set_xticklabels([])\n",
    "    ax.set_yticklabels([])\n",
    "    ax.set(adjustable='box', aspect='equal')"
   ]
  },
  {
   "cell_type": "markdown",
   "id": "cb6e9d6b",
   "metadata": {},
   "source": [
    "#### (2) Analysis"
   ]
  },
  {
   "cell_type": "code",
   "execution_count": null,
   "id": "d80526b6",
   "metadata": {},
   "outputs": [],
   "source": [
    "# Setup figure\n",
    "fig, ax_array = plt.subplots(2, 2)\n",
    "fig.set_size_inches(5, 5)\n",
    "\n",
    "# Plot 7-mer data\n",
    "for plot_pos, nonuv, uv in FIGURE_S6A_7MER_INPUT:\n",
    "    # Read k-mer files for each condition\n",
    "    non_uv_df = pd.read_csv(nonuv, sep=\"\\t\")\n",
    "    non_uv_df = non_uv_df[[\"7-mer\", \"E-score\"]]\n",
    "    uv_df = pd.read_csv(uv, sep = '\\t')\n",
    "    uv_df = uv_df[[\"7-mer\", \"E-score\"]]\n",
    "    # Merge into a single dataframe\n",
    "    comparison = pd.merge(non_uv_df, uv_df, on=\"7-mer\", suffixes = (\"_NonUV\", \"_UV\"))\n",
    "    add_escore_scatterplot(comparison, \"E-score_NonUV\", \"E-score_UV\", ax_array[plot_pos][0])\n",
    "    \n",
    "# Plot 6-mer data\n",
    "for plot_pos, file in FIGURE_S6A_6MER_INPUT:\n",
    "    kmer_df = pd.read_csv(file, sep = '\\t', skiprows=7)\n",
    "    add_escore_scatterplot(kmer_df, \"Escore_WC8\", \"Escore_UV9\", ax_array[plot_pos][1])\n",
    "\n",
    "fig.savefig(fname=f\"{OUTPUT}/Figure_S6A.svg\", format='svg')"
   ]
  },
  {
   "cell_type": "markdown",
   "id": "64657ea7",
   "metadata": {},
   "source": [
    "### Supplementary Figure 6B\n",
    "\n",
    "Supplementary figure 6B draws a scatterplot of 6-mers and colors data points by the UV preference score. \n",
    "\n",
    "\n",
    "#### (1) Functions"
   ]
  },
  {
   "cell_type": "code",
   "execution_count": null,
   "id": "99163acf",
   "metadata": {},
   "outputs": [],
   "source": [
    "def color_from_mpl_palette(palette: str,\n",
    "                           query_value: float,\n",
    "                           value_min: float,\n",
    "                           value_max: float) -> str:\n",
    "    \"\"\"Return the hex color code from a matplotlib color palette.\n",
    "    \n",
    "    Given a query value, the value range the pallette is being used for, and \n",
    "    the name of the matplotlib palette, returns a hex color code as a string for\n",
    "    the value.\n",
    "    \"\"\"\n",
    "    # Color map object\n",
    "    color_map = matplotlib.cm.get_cmap(palette)\n",
    "    # Get normalization of values based on value range\n",
    "    normalization = matplotlib.colors.Normalize(vmin=value_min, vmax=value_max)\n",
    "    # Output includes rgb and luminence but only rgb is needed for hex code\n",
    "    rgb_colors = color_map(normalization(query_value))[:3]\n",
    "    color = matplotlib.colors.rgb2hex(rgb_colors)\n",
    "    return color\n",
    "\n",
    "def colorbar_from_mpl_palette(palette: str,\n",
    "                           query_value: float,\n",
    "                           value_min: float,\n",
    "                           value_max: float) -> str:\n",
    "    \"\"\"Return the hex color code from a matplotlib color palette.\n",
    "    \n",
    "    Given a query value, the value range the pallette is being used for, and \n",
    "    the name of the matplotlib palette, returns a hex color code as a string for\n",
    "    the value.\n",
    "    \"\"\"\n",
    "    # Color map object\n",
    "    color_map = matplotlib.cm.get_cmap(palette)\n",
    "    # Get normalization of values based on value range\n",
    "    normalization = matplotlib.colors.Normalize(vmin=value_min, vmax=value_max)\n",
    "    # Output includes rgb and luminence but only rgb is needed for hex code\n",
    "    cmap = color_map(normalization(query_value))\n",
    "    return cmap\n",
    "\n",
    "def ols_scatterplot(x, y, plot_df, color, output):\n",
    "    p = figure(x_range=(-0.52, 0.52), y_range=(-0.52, 0.52))\n",
    "    p.circle(x=plot_df[x],\n",
    "             y=plot_df[y],\n",
    "             color=color,\n",
    "            size=6)\n",
    "    p.line(x=plot_df[x],\n",
    "           y=plot_df[\"Confidence_Interval_Upper\"],\n",
    "           color='black',\n",
    "           line_dash='dashed',\n",
    "           line_width=2)\n",
    "    p.line(x=plot_df[x],\n",
    "           y=plot_df[\"Confidence_Interval_Lower\"],\n",
    "           color='black',\n",
    "           line_dash='dashed',\n",
    "           line_width=2)\n",
    "    p.toolbar_location = None\n",
    "    p.xgrid.visible = False\n",
    "    p.ygrid.visible = False\n",
    "    p.xaxis.minor_tick_line_color = None\n",
    "    p.yaxis.minor_tick_line_color = None\n",
    "    p.xaxis.major_label_text_font_size = '0pt'\n",
    "    p.yaxis.major_label_text_font_size = '0pt'\n",
    "    p.output_backend='svg'\n",
    "    export_svg(p, filename=output)"
   ]
  },
  {
   "cell_type": "markdown",
   "id": "ea82fdf9",
   "metadata": {},
   "source": [
    "#### (2) Read Input data - Set Color Bar to Lowest Multiple of Absolute Max Preference Score"
   ]
  },
  {
   "cell_type": "code",
   "execution_count": null,
   "id": "c676da30",
   "metadata": {},
   "outputs": [],
   "source": [
    "df = pd.read_csv(FIGURE_S6B_INPUT,\n",
    "                 sep='\\t',\n",
    "                 skiprows=7)\n",
    "p_absmax = max(df[\"Preference_Score\"].apply(lambda x: abs(x)))\n",
    "if COLORBAR_EDGE <= p_absmax: # COLORBAR_EDGE must contain p_absmax\n",
    "    print(\"colorbar_edge must be set higher than\", p_absmax)"
   ]
  },
  {
   "cell_type": "markdown",
   "id": "d710454f",
   "metadata": {},
   "source": [
    "#### (3) Analysis"
   ]
  },
  {
   "cell_type": "code",
   "execution_count": null,
   "id": "5a4b1640",
   "metadata": {},
   "outputs": [],
   "source": [
    "# Set colors for datapoints\n",
    "df[\"Color\"] = df[\"Preference_Score\"].apply(lambda x: color_from_mpl_palette(\"coolwarm\",\n",
    "                                                                             x,\n",
    "                                                                             -1 * COLORBAR_EDGE,\n",
    "                                                                             COLORBAR_EDGE))\n",
    "plot_df = df.sort_values(by=\"Escore_WC8\").reset_index()\n",
    "# Create the left scatterplot of replicate E-scores\n",
    "ols_scatterplot(\"Escore_WC8\", \"Escore_WC9\", plot_df, \"black\", f\"{OUTPUT}/Fig_S6B_Replicates.svg\")\n",
    "# Create the right scatterplot of Non-UV vs UV k-mers\n",
    "ols_scatterplot(\"Escore_WC8\", \"Escore_UV9\", plot_df, plot_df[\"Color\"], f\"{OUTPUT}/Fig_S6B_Comparison.svg\")"
   ]
  },
  {
   "cell_type": "markdown",
   "id": "b1051d2d",
   "metadata": {},
   "source": [
    "## Supplementary TableXA: UV-preferred K-mer Occurance in Genomes\n",
    "\n",
    "Given a fasta file for human promoter regions, scans the file for occurances of UV-preferred k-mers. Generates the following output:\n",
    "\n",
    "1. k-mer counts across the genome (Table X)\n",
    "\n",
    "The percentage is saved to a text file for use in the text. The aggregate k-mer counts are saved as a csv file for use in Supplementary Table X."
   ]
  },
  {
   "cell_type": "markdown",
   "id": "527eddeb",
   "metadata": {},
   "source": [
    "#### (1) Download and extract chromosome data\n",
    "\n",
    "Downloads the hg19 genome by chromosome for use in k-mer calling. The k-mer calling is multi-core to speedup via parallelization and each process counts k-mers for a given chromosome fasta file. "
   ]
  },
  {
   "cell_type": "code",
   "execution_count": null,
   "id": "fceb22cd",
   "metadata": {},
   "outputs": [],
   "source": [
    "%%bash\n",
    "\n",
    "wget https://hgdownload.soe.ucsc.edu/goldenPath/hg19/bigZips/chromFa.tar.gz -O ../../Data/External_Data/chromFa.tar.gz\n",
    "gunzip ../../Data/External_Data/chromFa.tar.gz"
   ]
  },
  {
   "cell_type": "markdown",
   "id": "986d0c49",
   "metadata": {},
   "source": [
    "#### (2) Functions"
   ]
  },
  {
   "cell_type": "code",
   "execution_count": null,
   "id": "800176a8",
   "metadata": {},
   "outputs": [],
   "source": [
    "def uv_preferred_kmer_set(kmer_file):\n",
    "    kmers = pd.read_csv(kmer_file, sep='\\t', skiprows=7)\n",
    "    uvpref = kmers[kmers[\"Escore_UV9\"] > kmers[\"Confidence_Interval_Upper\"]].reset_index(drop=True)\n",
    "    uvpkmers = set(list(uvpref[\"kmerFwd\"]) + list(uvpref[\"kmerRC\"]))\n",
    "    return uvpkmers\n",
    "\n",
    "def count_kmers_sepstrd(sequence, to_dict, k=3):\n",
    "    for i in range(len(sequence) - k + 1):\n",
    "        kmer = sequence[i:i+k]\n",
    "        if \"N\" not in kmer:\n",
    "            to_dict[kmer] += 1\n",
    "\n",
    "def count_kmers(sequence, to_dict, k=6):\n",
    "    for i in range(len(sequence) - k + 1):\n",
    "        kmer = sequence[i:i+k]\n",
    "        if \"N\" not in kmer:\n",
    "            if kmer in to_dict:\n",
    "                to_dict[kmer] += 1\n",
    "            else:\n",
    "                to_dict[uac.reverse_complement(kmer)] += 1\n",
    "            \n",
    "def count_chromosome_kmers(chromosome_file, to_dict, k=6):\n",
    "    prefix_idx = -1 * (k-1)\n",
    "    with open(chromosome_file) as file_obj:\n",
    "        next(file_obj) # Skip header\n",
    "        prefix = \"\" # Previous sequence that overlaps with the next\n",
    "        for i in file_obj:\n",
    "            line = prefix + i.strip().upper()\n",
    "            count_kmers(line, to_dict)\n",
    "            prefix = line[prefix_idx:]\n",
    "            \n",
    "def count_chromosome_kmers_pipeline(input_file, output_file, k=6):\n",
    "    result_dict = defaultdict(int)\n",
    "    count_chromosome_kmers(input_file, result_dict, k)\n",
    "    result_df = pd.DataFrame.from_dict(result_dict,\n",
    "                             orient='index').reset_index()\n",
    "    result_df = result_df.rename(columns={\"index\":\"Kmer\", 0:\"Count\"})\n",
    "    result_df.to_csv(output_file, index=False)"
   ]
  },
  {
   "cell_type": "markdown",
   "id": "c67ced8e",
   "metadata": {},
   "source": [
    "#### (3) Count k-mers across genome"
   ]
  },
  {
   "cell_type": "code",
   "execution_count": null,
   "id": "a5632271",
   "metadata": {},
   "outputs": [],
   "source": [
    "# Define chromosome files to count k-mers\n",
    "CHR_FILES = []\n",
    "for i in range(1, 23):\n",
    "    CHR_FILES.append(f\"chr{i}.fa\")\n",
    "for i in ('X', \"Y\"):\n",
    "    CHR_FILES.append(f\"chr{i}.fa\")\n",
    "\n",
    "multiprocess_arguments = []\n",
    "for i in CHR_FILES:\n",
    "    multiprocess_arguments.append([f\"{CHR_FOLDER}/{i}\",\n",
    "                                   f\"{OUTPUT_SX }/{i}_count.csv\"],\n",
    "                                  6)\n",
    "pool = mp.Pool(THREADS)\n",
    "pool.starmap_async(count_chromosome_kmers_pipeline,\n",
    "                   multiprocess_arguments).get()\n",
    "pool.close()"
   ]
  },
  {
   "cell_type": "markdown",
   "id": "78ea7025",
   "metadata": {},
   "source": [
    "#### (4) Read UV_Preferred K-mers and organize as a dictionary of sets"
   ]
  },
  {
   "cell_type": "code",
   "execution_count": null,
   "id": "74089436",
   "metadata": {},
   "outputs": [],
   "source": [
    "# Input files\n",
    "KMER_6MER = \"../../Design/Concatinated_Kmers_Design/Data\"\n",
    "FIGURE_SX_INPUT = ((\"CREB1\",f\"{KMER_6MER}/CREB1_0_1/OLS_CREB1_0_1_Escore.txt\"),\n",
    "                   (\"EGR1\", f\"{KMER_6MER}/EGR1_2_3/OLS_EGR1_2_3_Escore.txt\"))\n",
    "# From input files, return a dictionary where the key is the TF and value is a set of UV-preferred kmers\n",
    "kmer_dict = {}\n",
    "for tf, file in FIGURE_SX_INPUT:\n",
    "    pref_kmers = uv_preferred_kmer_set(file)\n",
    "    kmer_dict[tf] = pref_kmers"
   ]
  },
  {
   "cell_type": "markdown",
   "id": "51d47a17",
   "metadata": {},
   "source": [
    "#### (5) Aggregate Counts Across Chromosomes and Categorize "
   ]
  },
  {
   "cell_type": "code",
   "execution_count": null,
   "id": "5287e430",
   "metadata": {},
   "outputs": [],
   "source": [
    "# Create dataframe from all k-mer count files\n",
    "gcounts = []\n",
    "for i in CHR_FILES:\n",
    "    gcounts.append(pd.read_csv(f\"{OUTPUT_SX }/{i}_count.csv\"))\n",
    "gcount_df = pd.concat(gcounts).reset_index(drop=True)\n",
    "# Create a dictionary of k-mers with the counts per k-mer\n",
    "gcount_dict = defaultdict(int)\n",
    "for kmer, count in zip(gcount_df[\"Kmer\"], gcount_df[\"Count\"]):\n",
    "    if kmer in gcount_dict:\n",
    "        gcount_dict[kmer] += count\n",
    "    else:\n",
    "        gcount_dict[uac.reverse_complement(kmer)] += count\n",
    "# Use the dictionary to create a final dataframe\n",
    "result_df = pd.DataFrame.from_dict(gcount_dict, orient=\"index\").reset_index().rename(columns={\"index\":\"Kmer\", 0:\"Count\"})\n",
    "total_kmer_count = sum(result_df[\"Count\"])\n",
    "result_df[\"CREB1_UV_Preferred\"] = result_df[\"Kmer\"].apply(lambda x: True if x in kmer_dict[\"CREB1\"] else False)\n",
    "result_df[\"EGR1_UV_Preferred\"] = result_df[\"Kmer\"].apply(lambda x: True if x in kmer_dict[\"EGR1\"] else False)\n",
    "# Save as Supplementary Table XA\n",
    "result_df.to_csv(f\"{OUTPUT_TSX}/Supplementary_Table_XA_Genomic_Kmer_Counts.csv\", index=False)\n",
    "# Print percent k-mers\n",
    "for tf in (\"CREB1\", \"EGR1\"):\n",
    "    percent = sum(result_df[result_df[f\"{tf}_UV_Preferred\"]][\"Count\"]) / total_kmer_count\n",
    "    print(f\"Genomic {tf} UV preferred k-mers: {percent}\")"
   ]
  },
  {
   "cell_type": "markdown",
   "id": "4f4e2045",
   "metadata": {},
   "source": [
    "## Supplementary Figure 7A: UV-preferred Sites in Promoter Regions\n",
    "\n",
    "Given a fasta file for human promoters, calls sites from UV-preferred k-mers at different lengths and a PWM of non-UV binding for comparison. "
   ]
  },
  {
   "cell_type": "markdown",
   "id": "28bca5d5",
   "metadata": {},
   "source": [
    "#### (1) Functions"
   ]
  },
  {
   "cell_type": "code",
   "execution_count": null,
   "id": "0275328e",
   "metadata": {},
   "outputs": [],
   "source": [
    "def get_match_idxs(string, kmers, k=6):\n",
    "    \"\"\"Get indexes of k-mer matches to a string.\n",
    "    \n",
    "    Given a string and set of k-mers, return a list of start\n",
    "    indexes for matches.\n",
    "    \"\"\"\n",
    "    string = string.upper()\n",
    "    matches = []\n",
    "    for idx in range(len(string) - k + 1):\n",
    "        if string[idx:idx+k] in kmers:\n",
    "            matches.append(idx)\n",
    "    return matches\n",
    "\n",
    "\n",
    "\n",
    "def ranges_from_match_idxs(matches, k=6): # Gets range of first, should not start again for already considered.\n",
    "    \"\"\"Given a list of match indexes, return a list of range tuples.\n",
    "    \n",
    "    Converts a list of match indexes into a list of tuples where each\n",
    "    tuple indicates the start (inclusive) and end (exclusive) of consecutuve matches.\n",
    "    \"\"\"\n",
    "    if len(matches) == 0:\n",
    "        return []\n",
    "    elif len(matches) == 1:\n",
    "        return [(matches[0], matches[0] + k)]\n",
    "    regions = []\n",
    "    start = matches[0]\n",
    "    last_seen = start\n",
    "    for i in matches[1:]:\n",
    "        if last_seen + 1 != i:\n",
    "            # Save last result\n",
    "            regions.append((start, last_seen + 1 + k))\n",
    "            # Make new range\n",
    "            start = i\n",
    "        last_seen = i\n",
    "    if regions[-1][0] != start:\n",
    "        regions.append((start, last_seen + 1 + k))\n",
    "    return regions\n",
    "\n",
    "\n",
    "def ranges_to_bed(range_list, chromosome, start, name):\n",
    "    bed_coordinates = []\n",
    "    for i in range_list:\n",
    "        bed_coordinates.append((chromosome, start + i[0], start + i[1], name))\n",
    "    return bed_coordinates\n",
    "\n",
    "\n",
    "def name_from_label(label):\n",
    "    r = label.split(\"_\")\n",
    "    return \"_\".join(r[:2] + r[5:])\n",
    "\n",
    "\n",
    "def max_length_from_range_list(range_list):\n",
    "    if len(range_list) == 0:\n",
    "        return 0\n",
    "    length_list = list(map(lambda x: x[1] - x[0], range_list))\n",
    "    return max(length_list)\n",
    "\n",
    "def logodds_pwm_from_pwms(name: str, pwms: pd.DataFrame):\n",
    "    # Query\n",
    "    pwm = pwm_df[pwm_df[\"Experiment\"] == name]\n",
    "    # Transpose to wide format and convert to numpy array\n",
    "    pwm = np.array(pwm[[\"A\", \"C\", \"G\", \"T\"]].T)\n",
    "    # Convert from probability to log-odds with equiprobable background\n",
    "    logodds = lambda x: np.log(x/0.25)\n",
    "    pwm_logodds = logodds(pwm)\n",
    "    # Save PWM to file\n",
    "    np.savetxt(fname=f\"{OUTPUT_SX}/{name}_pwm_logodds.txt\",\n",
    "               X=pwm_logodds,\n",
    "               delimiter='\\t')\n",
    "    \n",
    "\n",
    "    \n",
    "def call_sites_moods(pwm_logodd_file: str,\n",
    "                     fasta_file: str,\n",
    "                     output: str,\n",
    "                     pvalue: str = \"0.0001\"):\n",
    "    command_list = [\"moods-dna.py\",\n",
    "                    \"-S\",\n",
    "                   pwm_logodd_file,\n",
    "                   \"-s\",\n",
    "                   fasta_file,\n",
    "                   \"-p\",\n",
    "                   pvalue,\n",
    "                   \"-o\",\n",
    "                   output]\n",
    "    subprocess.run(command_list)\n",
    "    \n",
    "\n",
    "\n",
    "    \n",
    "def call_nonconsensus_sites(string, kmers, k=6):\n",
    "    matches = get_match_idxs(string, kmers, k)\n",
    "    ranges = ranges_from_match_idxs(matches)\n",
    "    #filtered_ranges = list(filter(lambda x: x[1] - x[0] >= min_size, ranges))\n",
    "    return ranges\n",
    "\n",
    "def call_sites_from_fasta(fasta_file, kmers):\n",
    "    sites = []\n",
    "    with open(fasta_file) as file_obj:\n",
    "        for record in SeqIO.parse(file_obj, \"fasta\"):\n",
    "            site_ranges = call_nonconsensus_sites(str(record.seq), kmers)\n",
    "            genomic_coords = record.description\n",
    "            chromosome = genomic_coords.split(\":\")[0]\n",
    "            start = int(genomic_coords.split(\":\")[1].split(\"-\")[0])\n",
    "            name = name_from_label(record.id)\n",
    "            sites = sites + ranges_to_bed(site_ranges, chromosome, start, name)\n",
    "    sites_df = pd.DataFrame(sites)\n",
    "    return sites_df\n",
    "\n",
    "def call_sites_pipeline(fasta_file,\n",
    "                        kmer_dict,\n",
    "                        tf,\n",
    "                        output_name):\n",
    "    sites = call_sites_from_fasta(fasta_file, kmer_dict[tf])\n",
    "    sites = sites.rename(columns={0: \"Chromosome\", 1: \"Start\", 2: \"End\", 3: \"Name\"})\n",
    "    output_file = f\"{OUTPUT_SX}/{output_name}\"\n",
    "    sites.to_csv(output_file, sep='\\t', header=None, index=False)"
   ]
  },
  {
   "cell_type": "markdown",
   "id": "8666377b",
   "metadata": {},
   "source": [
    "#### (3) Download the promoter file from USCS\n",
    "\n",
    "**Note:** The file for publication was downloaded on: "
   ]
  },
  {
   "cell_type": "code",
   "execution_count": null,
   "id": "4a09d06f",
   "metadata": {},
   "outputs": [],
   "source": [
    "%%bash\n",
    "\n",
    "wget https://hgdownload.soe.ucsc.edu/goldenPath/hg19/bigZips/upstream2000.fa.gz -O ../../Data/External_Data/upstream2000.fa.gz\n",
    "gunzip ../../Data/External_Data/upstream2000.fa.gz"
   ]
  },
  {
   "cell_type": "markdown",
   "id": "9e078fa8",
   "metadata": {},
   "source": [
    "#### (4) Convert the FASTA promoter file to BED\n",
    "\n",
    "The promoter fasta file has the sequences relative to the strand of the gene. For this analysis, having all sequences on the plus strand simplifies the process. Using the FASTA labels, a BED file is generates from the promoter FASTA file.\n",
    "\n",
    "**File Output:**\n",
    "\n",
    "| Output File |  Desciption |\n",
    "| --- | --- |\n",
    "| Promoter2000.bed |  Bed coordinates of upstream2000.fa from USCS. |\n",
    "| Promoter2000_Sorted.bed | Sorted version of Promoter2000.bed |\n",
    "| Promoter2000_Merged.bed | Merged version of Promoter2000_Sorted.bed |"
   ]
  },
  {
   "cell_type": "code",
   "execution_count": null,
   "id": "cfbeaa56",
   "metadata": {},
   "outputs": [],
   "source": [
    "bed_output = f\"{OUTPUT_SX}/Promoter2000.bed\"\n",
    "bed = []\n",
    "# Read promoter file and parse genomic coordinates\n",
    "with open(PROMOTER_FILE) as file_obj:\n",
    "    for record in SeqIO.parse(file_obj, \"fasta\"):\n",
    "        genomic_coords = record.description.split()[1].strip()\n",
    "        if not any([i in genomic_coords for i in [\"alt\", \"fix\", \"random\", \"chrUn\", \"hap\"]]):\n",
    "            chrom = genomic_coords.split(\":\")[0]\n",
    "            start = int(genomic_coords.split(\":\")[1].split(\"-\")[0]) - 1\n",
    "            end = genomic_coords.split(\":\")[1].split(\"-\")[1]\n",
    "            bed.append((chrom, start, end))\n",
    "beddf = pd.DataFrame(bed)\n",
    "beddf = beddf.rename(columns={0:\"Chr\", 1:\"Start\", 2:\"End\"})\n",
    "beddf = beddf.drop_duplicates().reset_index(drop=True)\n",
    "beddf.to_csv(bed_output, sep=\"\\t\", header=None, index=False)\n",
    "\n",
    "# Define output names\n",
    "sorted_bed_output = f\"{OUTPUT_SX}/Promoter2000_Sorted.bed\"\n",
    "merged_bed_output = f\"{OUTPUT_SX}/Promoter2000_Merged.bed\""
   ]
  },
  {
   "cell_type": "code",
   "execution_count": null,
   "id": "94679bf4",
   "metadata": {},
   "outputs": [],
   "source": [
    "%%bash -s \"$bed_output\" \"$sorted_bed_output\" \"$merged_bed_output\"\n",
    "\n",
    "bedtools sort -i $1 > $2\n",
    "bedtools merge -i $2 > $3"
   ]
  },
  {
   "cell_type": "markdown",
   "id": "5e06d871",
   "metadata": {},
   "source": [
    "#### (5) Convert the BED file to a FASTA file\n",
    "\n",
    "**Output files:**\n",
    "\n",
    "| Output File |  Desciption |\n",
    "| --- | --- |\n",
    "| Promoter2000.fasta |  Fasta file from Promoter2000.bed |\n",
    "| Promoter2000_Merged.fasta | Fasta file from Promoter2000_Merged.bed |"
   ]
  },
  {
   "cell_type": "code",
   "execution_count": null,
   "id": "0a2bc30f",
   "metadata": {},
   "outputs": [],
   "source": [
    "# Define output names\n",
    "promoter_output = f\"{OUTPUT_SX}/Promoter2000.fasta\"\n",
    "promoter_output_merged = f\"{OUTPUT_SX}/Promoter2000_Merged.fasta\""
   ]
  },
  {
   "cell_type": "code",
   "execution_count": null,
   "id": "027e70d6",
   "metadata": {},
   "outputs": [],
   "source": [
    "%%bash -s \"$bed_output\" \"$promoter_output\" \"$merged_bed_output\" \"$promoter_output_merged\"\n",
    "# Run bedtools getfasta\n",
    "bedtools getfasta -fi ../../Data/External_Data/human_g1k_v37.fasta -bed $1 -fo $2 \n",
    "bedtools getfasta -fi ../../Data/External_Data/human_g1k_v37.fasta -bed $3 -fo $4 "
   ]
  },
  {
   "cell_type": "markdown",
   "id": "99bb13f9",
   "metadata": {},
   "source": [
    "#### (6) Call Non-Consensus Sites in the Promoter"
   ]
  },
  {
   "cell_type": "code",
   "execution_count": null,
   "id": "640aac4e",
   "metadata": {},
   "outputs": [],
   "source": [
    "for tf in (\"CREB1\", \"EGR1\"):\n",
    "    print(f\"Calling Non-Consensus sites for {tf}...\")\n",
    "    call_sites_pipeline(f\"{OUTPUT_SX}/Promoter2000.fasta\",\n",
    "                        kmer_dict,\n",
    "                        tf,\n",
    "                        f\"NonConsensus_{tf}_in_Promoters.bed\")\n",
    "    # Create bed files with 15+, 20+, 25+ minimum lengths\n",
    "    for min_length in (15, 20, 25):\n",
    "        with open(f\"{OUTPUT_SX}/NonConsensus_{tf}_in_Promoters.bed\") as read_obj, open(f\"{OUTPUT_SX}/NonConsensus_{tf}_in_Promoters_{min_length}.bed\", 'w') as write_obj:\n",
    "            for line in read_obj:\n",
    "                chrom, start, end, name = line.strip().split()\n",
    "                site_len = int(end) - int(start)\n",
    "                if site_len >= min_length:\n",
    "                    write_obj.write(f\"{chrom}\\t{start}\\t{end}\\n\")\n",
    "        df = pd.read_csv(f\"{OUTPUT_SX}/NonConsensus_{tf}_in_Promoters_{min_length}.bed\", sep='\\t', header=None)\n",
    "        df = df.drop_duplicates().reset_index(drop=True)\n",
    "        df.to_csv(f\"{OUTPUT_SX}/NonConsensus_{tf}_in_Promoters_{min_length}_unique.bed\", sep='\\t', header=None, index=False)"
   ]
  },
  {
   "cell_type": "code",
   "execution_count": null,
   "id": "47d8a915",
   "metadata": {},
   "outputs": [],
   "source": [
    "# Get total number of promoters\n",
    "promoters = pd.read_csv(f\"{OUTPUT_SX}/Promoter2000.bed\", sep='\\t', header=None)\n",
    "total_promoter_count = len(promoters)\n",
    "total_promoter_count"
   ]
  },
  {
   "cell_type": "markdown",
   "id": "a256cdca",
   "metadata": {},
   "source": [
    "#### (7) Call Canonical Sites in the Promoter\n",
    "\n",
    "Call sites using the Non-UV PWMs for CREB1 and EGR1 to use as a comparison for the non-consensus sites."
   ]
  },
  {
   "cell_type": "code",
   "execution_count": null,
   "id": "4519b266",
   "metadata": {},
   "outputs": [],
   "source": [
    "# MEME Version\n",
    "def query_pwm_from_pwmdf(name: str, pwms: pd.DataFrame):\n",
    "    # Query\n",
    "    pwm = pwm_df[pwm_df[\"Experiment\"] == name]\n",
    "    # Transpose to wide format and convert to numpy array\n",
    "    pwm = pwm[[\"A\", \"C\", \"G\", \"T\"]].rename(columns={\"A\":\"A:\",\n",
    "                                                    \"C\":\"C:\",\n",
    "                                                    \"G\":\"G:\",\n",
    "                                                    \"T\":\"T:\"})\n",
    "    pwm = pwm.T\n",
    "    # Save PWM to file\n",
    "    return pwm\n",
    "\n",
    "\n",
    "pwm_df = pd.read_csv(PWMS)\n",
    "pwm_percentages = []\n",
    "for protein in (\"CREB1\", \"EGR1\"):\n",
    "    pwm = query_pwm_from_pwmdf(f\"{protein}_NonUV\", pwm_df)\n",
    "    with open(f\"{OUTPUT_SX}/{protein}_NonUV_pwm.txt\", 'w') as write_obj:\n",
    "        write_obj.write(f\"{protein}\\n\")\n",
    "    pwm.to_csv(f\"{OUTPUT_SX}/{protein}_NonUV_pwm.txt\", sep='\\t', header=None, mode='a')"
   ]
  },
  {
   "cell_type": "code",
   "execution_count": null,
   "id": "348ce8c0",
   "metadata": {},
   "outputs": [],
   "source": [
    "%%bash\n",
    "\n",
    "uniprobe2meme ../Figure_SX/CREB1_NonUV_pwm.txt > ../Figure_SX/CREB1_NonUV_pwm.meme\n",
    "uniprobe2meme ../Figure_SX/EGR1_NonUV_pwm.txt > ../Figure_SX/EGR1_NonUV_pwm.meme"
   ]
  },
  {
   "cell_type": "code",
   "execution_count": null,
   "id": "b0b464b3",
   "metadata": {},
   "outputs": [],
   "source": [
    "# Create background model from promoter sequences\n",
    "\n"
   ]
  },
  {
   "cell_type": "code",
   "execution_count": null,
   "id": "34b16130",
   "metadata": {},
   "outputs": [],
   "source": [
    "%%bash\n",
    "\n",
    "for tf in CREB1 EGR1\n",
    "do\n",
    "    fimo --parse-genomic-coord --bfile ../Figure_SX/Promoter2000_Merged_markov_bkg.txt --text  ../Figure_SX/${tf}_NonUV_pwm.meme  ../Figure_SX/Promoter2000.fasta > ../Figure_SX/${tf}_fimo_calls.txt\n",
    "done"
   ]
  },
  {
   "cell_type": "code",
   "execution_count": null,
   "id": "856dab50",
   "metadata": {},
   "outputs": [],
   "source": [
    "# Convert FIMO Calls to Unique BE\n",
    "for tf in (\"CREB1\", \"EGR1\"):\n",
    "    df = pd.read_csv(f\"{OUTPUT_SX}/{tf}_fimo_calls.txt\", sep='\\t')\n",
    "    df = df[[\"sequence_name\", \"start\", \"stop\"]].drop_duplicates()\n",
    "    df.to_csv(f\"{OUTPUT_SX}/{tf}_PWM_Promoter_Calls_Unique.bed\",\n",
    "              sep='\\t',\n",
    "              header=None,\n",
    "              index=False)"
   ]
  },
  {
   "cell_type": "markdown",
   "id": "28e9d17d",
   "metadata": {},
   "source": [
    "#### (8) Plotting of Sites in Promoter Regions"
   ]
  },
  {
   "cell_type": "code",
   "execution_count": null,
   "id": "d2e71a60",
   "metadata": {},
   "outputs": [],
   "source": [
    "# Calculate longest k-mer run per promoter\n",
    "\n",
    "\n",
    "def longest_ncsites_from_calls(nc_call_file):\n",
    "    promoter_ncsite_dict = defaultdict(int)\n",
    "    with open(nc_call_file) as file_obj:\n",
    "        for i in file_obj:\n",
    "            c, s, e, promoter = i.strip().split()\n",
    "            site_len = int(e) - int(s)\n",
    "            if site_len > promoter_ncsite_dict[promoter]:\n",
    "                promoter_ncsite_dict[promoter] = site_len\n",
    "    return promoter_ncsite_dict\n",
    "creb1_longest_nc = longest_ncsites_from_calls(f\"{OUTPUT_SX}/NonConsensus_CREB1_in_Promoters.bed\")\n",
    "egr1_longest_nc = longest_ncsites_from_calls(f\"{OUTPUT_SX}/NonConsensus_EGR1_in_Promoters.bed\")\n",
    "creb1_nc_df = pd.DataFrame.from_dict(creb1_longest_nc, orient='index').reset_index().rename(columns={\"index\":\"Promoter\", 0:\"Longest_CREB1_NCSite\"})\n",
    "egr1_nc_df = pd.DataFrame.from_dict(egr1_longest_nc, orient='index').reset_index().rename(columns={\"index\":\"Promoter\", 0:\"Longest_EGR1_NCSite\"})\n"
   ]
  },
  {
   "cell_type": "markdown",
   "id": "4bd2b34f",
   "metadata": {},
   "source": [
    "#### Organize Promoter DF with longest k-mer run for NC sites and if it contains a PWM site call"
   ]
  },
  {
   "cell_type": "code",
   "execution_count": null,
   "id": "f6f704c7",
   "metadata": {},
   "outputs": [],
   "source": [
    "total_promoter_list = []\n",
    "with open(f\"{OUTPUT_SX}/Promoter2000.bed\") as file_obj:\n",
    "    for i in file_obj:\n",
    "        chrom, start, end= i.strip().split()\n",
    "        total_promoter_list.append(f\"{chrom}:{start}-{end}\")\n",
    "promoter_df = pd.DataFrame(total_promoter_list)\n",
    "promoter_df = promoter_df.rename(columns={0:\"Promoter\"})\n",
    "creb1_pwm_promoter_set = set(pd.read_csv(f\"{OUTPUT_SX}/CREB1_PWM_Promoter_Calls.csv\", header=None)[0])\n",
    "egr1_pwm_promoter_set = set(pd.read_csv(f\"{OUTPUT_SX}/EGR1_PWM_Promoter_Calls.csv\", header=None)[0])\n",
    "promoter_df = pd.DataFrame(total_promoter_list)\n",
    "promoter_df = promoter_df.rename(columns={0:\"Promoter\"})\n",
    "promoter_df = pd.merge(promoter_df, creb1_nc_df, how=\"outer\", on=\"Promoter\")\n",
    "promoter_df[\"Longest_CREB1_NCSite\"] = promoter_df[\"Longest_CREB1_NCSite\"].fillna(0)\n",
    "promoter_df = pd.merge(promoter_df, egr1_nc_df, how=\"outer\", on=\"Promoter\")\n",
    "promoter_df[\"Longest_EGR1_NCSite\"] = promoter_df[\"Longest_EGR1_NCSite\"].fillna(0)\n",
    "promoter_df[\"Contains_CREB1_PWM\"] = promoter_df[\"Promoter\"].apply(lambda x: 1 if x in creb1_pwm_promoter_set else 0)\n",
    "promoter_df[\"Contains_EGR1_PWM\"] = promoter_df[\"Promoter\"].apply(lambda x: 1 if x in egr1_pwm_promoter_set else 0)\n",
    "promoter_df"
   ]
  },
  {
   "cell_type": "code",
   "execution_count": null,
   "id": "853edff3",
   "metadata": {},
   "outputs": [],
   "source": [
    "# Organize DF of percentage of promoters containing NC sites and PWM Calls\n",
    "result = []\n",
    "for i in (\"Longest_CREB1_NCSite\", \"Longest_EGR1_NCSite\"):\n",
    "    for j in (25, 20, 15):\n",
    "        name = i.split('_')[1]\n",
    "        percent = len(promoter_df[promoter_df[i] >= j]) / len(promoter_df)\n",
    "        result.append((name, f\"{j}+\", percent))\n",
    "for i in (\"Contains_CREB1_PWM\", \"Contains_EGR1_PWM\"):\n",
    "        name = i.split('_')[1]\n",
    "        percent = len(promoter_df[promoter_df[i] == 1]) / len(promoter_df)\n",
    "        result.append((name, \"PWM\", percent))\n",
    "result_df = pd.DataFrame(result)\n",
    "result_df = result_df.rename(columns={0:\"Protein\", 1:\"Group\", 2:\"Percent_Promoters\"})\n",
    "result_df"
   ]
  },
  {
   "cell_type": "code",
   "execution_count": null,
   "id": "f1ae9711",
   "metadata": {},
   "outputs": [],
   "source": [
    "creb1_ksite_df = result_df[result_df[\"Protein\"] == \"CREB1\"].reset_index(drop=True)\n",
    "egr1_ksite_df = result_df[result_df[\"Protein\"] == \"EGR1\"].reset_index(drop=True)\n",
    "plt.ylim(0, 1)\n",
    "p = sns.barplot(data=creb1_ksite_df,\n",
    "            x=\"Group\",\n",
    "            y=\"Percent_Promoters\",\n",
    "            saturation=1,\n",
    "            color=\"black\",\n",
    "            order=[\"15+\", \"20+\", \"25+\", \"PWM\"])\n",
    "plt.savefig(fname=f\"{OUTPUT_SX}/CREB1_Promoter_Percentage.svg\", format='svg')\n",
    "p = sns.barplot(data=egr1_ksite_df,\n",
    "            x=\"Group\",\n",
    "            y=\"Percent_Promoters\",\n",
    "            saturation=1,\n",
    "            color=\"black\",\n",
    "            order=[\"15+\", \"20+\", \"25+\", \"PWM\"])\n",
    "plt.savefig(fname=f\"{OUTPUT_SX}/EGR1_Promoter_Percentage.svg\", format='svg')"
   ]
  },
  {
   "cell_type": "markdown",
   "id": "878b73f2",
   "metadata": {},
   "source": [
    "## Supplementary Figure 7B: UV-preferred Sites in Promoter Regions\n",
    "\n",
    "\n",
    "Venn diagram analysis for promoters. \n",
    "\n",
    "#### Functions"
   ]
  },
  {
   "cell_type": "code",
   "execution_count": null,
   "id": "64af7a42",
   "metadata": {},
   "outputs": [],
   "source": [
    "\n",
    "def fisher_exact_venn(set_a, set_b, total_count):\n",
    "    intersection_count = len(set_a.intersection(set_b))\n",
    "    top_right = len(set_b) - intersection_count\n",
    "    bottom_left = len(set_a) - intersection_count\n",
    "    bottom_right = (total_count - len(set_a)) - len(set_b) + intersection_count\n",
    "    result = fisher_exact([[intersection_count, top_right], [bottom_left, bottom_right]])\n",
    "    return result[1]"
   ]
  },
  {
   "cell_type": "markdown",
   "id": "d1c23045",
   "metadata": {},
   "source": [
    "#### Analysis"
   ]
  },
  {
   "cell_type": "code",
   "execution_count": null,
   "id": "663ac8cc",
   "metadata": {},
   "outputs": [],
   "source": [
    "from scipy.stats import fisher_exact\n",
    "\n",
    "# Plot and statistics\n",
    "total_promoters_count = len(promoter_df)\n",
    "venn_statistics = []\n",
    "plt.rcParams[\"figure.figsize\"] = (16,6)\n",
    "fig, ax_array = plt.subplots(2, 3)\n",
    "for row, protein in enumerate((\"CREB1\", \"EGR1\")):\n",
    "    pwm_set = set(promoter_df[promoter_df[f\"Contains_{protein}_PWM\"] == 1][\"Promoter\"])\n",
    "    for column, group in enumerate((15, 20, 25)):\n",
    "        # Derive set\n",
    "        nc_set = set(promoter_df[promoter_df[f\"Longest_{protein}_NCSite\"] >= group][\"Promoter\"])\n",
    "        # Plot\n",
    "        venn2((nc_set, pwm_set),\n",
    "              (\"UV-Preferred Kmers\", \"PWM Calls\"),\n",
    "              ax=ax_array[row][column],\n",
    "              set_colors=('#7fbf7b', '#af8dc3'))\n",
    "        # Run Fisher Exact Test\n",
    "        intersection_count = len(pwm_set.intersection(nc_set))\n",
    "        venn_statistics.append((protein, group, fisher_exact_venn(pwm_set, nc_set, total_promoter_count)))\n",
    "plt.savefig(fname=f\"{OUTPUT_SX}/Promoter_Overlap_Venn.svg\", format=\"svg\")"
   ]
  },
  {
   "cell_type": "code",
   "execution_count": null,
   "id": "e864fc19",
   "metadata": {},
   "outputs": [],
   "source": [
    "venn_df = pd.DataFrame(venn_statistics)\n",
    "venn_df = venn_df.rename(columns={0:\"Protein\", 1:\"UV_Preferred_Kmer_Min_Length\", 2:\"Fisher_Exact_Pvalue\"})\n",
    "venn_df.to_csv(f\"{OUTPUT_SX}/Venn_Statistics.csv\", index=False)\n",
    "venn_df"
   ]
  },
  {
   "cell_type": "markdown",
   "id": "467692c7",
   "metadata": {},
   "source": [
    "### Supplementary Figure 7C - UV Preferred Sites and Mutations\n",
    "\n",
    "#### (1) Functions"
   ]
  },
  {
   "cell_type": "code",
   "execution_count": null,
   "id": "5008a9e7",
   "metadata": {},
   "outputs": [],
   "source": [
    "def add_kmer_positions(string, k, label, to_dict):\n",
    "    \"\"\"Get indexes of k-mer matches to a string.\n",
    "    \n",
    "    Given a string and set of k-mers, return a list of start\n",
    "    indexes for matches.\n",
    "    \"\"\"\n",
    "    string = string.upper()\n",
    "    for idx in range(len(string) - k + 1):\n",
    "        kmer = string[idx:idx+k] \n",
    "        to_dict[kmer].append((label, idx))"
   ]
  },
  {
   "cell_type": "markdown",
   "id": "9dbf304f",
   "metadata": {},
   "source": [
    "#### (2) Determine background mutations frequency - Trimers\n",
    "\n",
    "For each 3-mer with orientations treated seperatly, find the positions of all 3-mers. Create a seperate file for each. \n",
    "\n",
    "This is done on an intersection of regions, k-mer counts need to be unique. "
   ]
  },
  {
   "cell_type": "code",
   "execution_count": null,
   "id": "d00ac1bb",
   "metadata": {},
   "outputs": [],
   "source": [
    "# Create a dictionary of list and specify k\n",
    "kmer_map_dict = defaultdict(list)\n",
    "k = 3\n",
    "# For each sequence, add k-mer positions to kmer_map_dict\n",
    "with open(f\"{OUTPUT_SX}/Promoter2000_Merged.fasta\") as file_obj:\n",
    "    for record in SeqIO.parse(file_obj, \"fasta\"):\n",
    "        add_kmer_positions(str(record.seq), 3, record.description, kmer_map_dict)\n",
    "# Convert the kmer_map_dict to bed files of where k-mers are in the promoter\n",
    "for kmer in kmer_map_dict:\n",
    "    with open(f\"{OUTPUT_3MERS}/{kmer}_Promoter2000_Merged.bed\", 'w') as write_obj:\n",
    "        for match in kmer_map_dict[kmer]:\n",
    "            genomic_coords, idx = match\n",
    "            chromosome = genomic_coords.split(\":\")[0]\n",
    "            start = int(genomic_coords.split(\":\")[1].split(\"-\")[0])\n",
    "            bed_label = f\"{chromosome}\\t{start + idx}\\t{start + idx + k}\\n\"\n",
    "            write_obj.write(bed_label)\n"
   ]
  },
  {
   "cell_type": "code",
   "execution_count": null,
   "id": "da306317",
   "metadata": {},
   "outputs": [],
   "source": [
    "%%bash\n",
    "# Validate output\n",
    "bedtools getfasta -fi ../../Data/External_Data/human_g1k_v37.fasta -fo ../Figure_SX/TTT_Validate.fasta -bed ../Figure_SX/Promoter_3mers/TTT_2000Promoter.bed"
   ]
  },
  {
   "cell_type": "markdown",
   "id": "b2b0e931",
   "metadata": {},
   "source": [
    "#### (3) Intersect mutations file with promoter\n",
    "\n"
   ]
  },
  {
   "cell_type": "code",
   "execution_count": null,
   "id": "d66feb3d",
   "metadata": {},
   "outputs": [],
   "source": [
    "%%bash\n",
    "\n",
    "bedtools intersect -a ../Figure_SX/skcm_mutations_0base.bed -b ../Figure_SX/Promoter2000_Merged.Bed -u > ../Figure_SX/skcm_mutations_promoter2000.bed      "
   ]
  },
  {
   "cell_type": "code",
   "execution_count": null,
   "id": "e6f0e4b3",
   "metadata": {},
   "outputs": [],
   "source": [
    "%%bash\n",
    "bedtools intersect -a ../Figure_SX/skcm_mutations.bed -b ../Figure_SX/Promoter2000_Merged.Bed -u > ../Figure_SX/skcm_mutations_promoter2000_orig.bed      "
   ]
  },
  {
   "cell_type": "markdown",
   "id": "46f54405",
   "metadata": {},
   "source": [
    "#### (4) Convert intersected mutation SNPS to trimer context"
   ]
  },
  {
   "cell_type": "code",
   "execution_count": null,
   "id": "43ebf1c3",
   "metadata": {},
   "outputs": [],
   "source": [
    "# Adjust intersected coordinates to trimers\n",
    "with open(f\"{OUTPUT_SX}/skcm_mutations_promoter2000.bed\") as read_obj, open(f\"{OUTPUT_SX}/skcm_mutations_promoter2000_trimer.bed\", 'w') as write_obj:\n",
    "    for line in read_obj:\n",
    "        chrom, start, end, wt, snp = line.strip().split()\n",
    "        start = int(start) - 1\n",
    "        end = int(end) + 1\n",
    "        write_obj.write(f\"{chrom}\\t{start}\\t{end}\\t{wt}\\t{snp}\\n\")\n"
   ]
  },
  {
   "cell_type": "markdown",
   "id": "4c930ff0",
   "metadata": {},
   "source": [
    "#### (5) Get sequences for all mutant trimers"
   ]
  },
  {
   "cell_type": "code",
   "execution_count": null,
   "id": "e7281b5d",
   "metadata": {},
   "outputs": [],
   "source": [
    "%%bash\n",
    "\n",
    "bedtools getfasta -fi ../../Data/External_Data/human_g1k_v37.fasta -fo ../Figure_SX/skcm_mutations_promoter2000_trimerwseq.tsv -tab -bed ../Figure_SX/skcm_mutations_promoter2000_trimer.bed"
   ]
  },
  {
   "cell_type": "markdown",
   "id": "4345ac7e",
   "metadata": {},
   "source": [
    "#### (6) Convert trimer file to BED file with the sequence as the 4th column"
   ]
  },
  {
   "cell_type": "code",
   "execution_count": null,
   "id": "29e2a73d",
   "metadata": {},
   "outputs": [],
   "source": [
    "with open(f\"{OUTPUT_SX}/skcm_mutations_promoter2000_trimerwseq.tsv\") as read_obj, open(f\"{OUTPUT_SX}/skcm_mutations_promoter2000_trimerwseq.bed\", 'w') as write_obj:\n",
    "    for line in read_obj:\n",
    "        genomic_position, seq = line.strip().split()\n",
    "        chrom = genomic_position.split(':')[0]\n",
    "        start, end = genomic_position.split(\":\")[1].split('-')\n",
    "        write_obj.write(f\"{chrom}\\t{start}\\t{end}\\t{seq}\\n\")"
   ]
  },
  {
   "cell_type": "markdown",
   "id": "a6f7b557",
   "metadata": {},
   "source": [
    "#### (7) Get counts of all mutation trimers in the promoter"
   ]
  },
  {
   "cell_type": "code",
   "execution_count": null,
   "id": "912a18fd",
   "metadata": {},
   "outputs": [],
   "source": [
    "promoter_trimers = pd.read_csv(f\"{OUTPUT_SX}/skcm_mutations_promoter2000_trimerwseq.bed\", sep='\\t', header=None)\n",
    "promoter_trimers = promoter_trimers.rename(columns={0:\"Chromosome\", 1:\"Start\", 2:\"End\", 3:\"Trimer\"})\n",
    "trimer_count_df = pd.DataFrame(promoter_trimers.value_counts(\"Trimer\"))\n",
    "trimer_count_df = trimer_count_df.reset_index()\n",
    "trimer_count_df = trimer_count_df.rename(columns={0:\"Mutation_Count\"})\n",
    "trimer_count_df"
   ]
  },
  {
   "cell_type": "code",
   "execution_count": null,
   "id": "843c5791",
   "metadata": {},
   "outputs": [],
   "source": [
    "# Get Counts for all trimers in promoter"
   ]
  },
  {
   "cell_type": "code",
   "execution_count": null,
   "id": "67e83994",
   "metadata": {},
   "outputs": [],
   "source": [
    "%%bash\n",
    "\n",
    "wc -l ../Figure_SX/Promoter_3mers/* > ../Figure_SX/Promoter_Trimer_Counts.txt"
   ]
  },
  {
   "cell_type": "code",
   "execution_count": null,
   "id": "c441d86f",
   "metadata": {},
   "outputs": [],
   "source": [
    "# Read trimer count file and process\n",
    "promoter_trimer_counts = pd.read_csv(\"../Figure_SX/Promoter_Trimer_Counts.txt\",\n",
    "                                     delim_whitespace=True,\n",
    "                                     header=None)\n",
    "promoter_trimer_counts = promoter_trimer_counts.rename(columns={0:\"Promoter_Count\", 1:\"File\"})\n",
    "promoter_trimer_counts = promoter_trimer_counts[promoter_trimer_counts[\"File\"] != \"total\"]\n",
    "promoter_trimer_counts[\"Trimer\"] = promoter_trimer_counts[\"File\"].apply(lambda x: x.split('/')[-1].split('_')[0])\n",
    "promoter_trimer_counts = promoter_trimer_counts[[\"Trimer\", \"Promoter_Count\"]]\n",
    "# Merge the mutation and total trimer counts into a single table\n",
    "all_trimer_counts = pd.merge(promoter_trimer_counts, trimer_count_df, on=\"Trimer\")\n",
    "# Save the results\n",
    "all_trimer_counts.to_csv(f\"{OUTPUT_SX}/Promoter_Trimer_Count_Table.csv\", index=False)"
   ]
  },
  {
   "cell_type": "markdown",
   "id": "faa2bf1d",
   "metadata": {},
   "source": [
    "#### (8) Generate background distribution of k-mers"
   ]
  },
  {
   "cell_type": "code",
   "execution_count": null,
   "id": "bccfc7fa",
   "metadata": {},
   "outputs": [],
   "source": [
    "os.makedirs(f\"{OUTPUT_SX}/Promoter_Backgrounds\", exist_ok=True)"
   ]
  },
  {
   "cell_type": "code",
   "execution_count": null,
   "id": "ee85d136",
   "metadata": {},
   "outputs": [],
   "source": [
    "# Generate M selections from range P 1000+ times\n",
    "# Set Seed\n",
    "random_gen = np.random.default_rng(0)\n",
    "# Set N samples\n",
    "n_samples = 100\n",
    "\n",
    "# For each trimer and its associated Total Promter Count and Mutant Promoter Count\n",
    "for row in all_trimer_counts.itertuples():\n",
    "    # Read the Total trimer count into memory as a list of lines\n",
    "    trimer_file = f\"{OUTPUT_3MERS}/{row.Trimer}_Promoter2000_Merged.bed\"\n",
    "    with open(trimer_file) as read_obj:\n",
    "        trimer_lines = read_obj.readlines()\n",
    "    # For each backgound file to make\n",
    "    for n in range(n_samples):\n",
    "        # Randomly select trimer locations with no replacement from uniform distribution\n",
    "        trimer_idxs = random_gen.choice(a=row.Promoter_Count, size=row.Mutation_Count, replace=False)\n",
    "        # Subset by index the trimer locations in memory\n",
    "        selected_lines = [trimer_lines[idx] for idx in trimer_idxs]\n",
    "        # Save the subset and an append\n",
    "        output_file = f\"{OUTPUT_SX}/Promoter_Backgrounds/Background_{n}.bed\"\n",
    "        with open(output_file, 'a') as append_obj:\n",
    "            for line in selected_lines:\n",
    "                append_obj.write(line)\n",
    "            \n",
    "    "
   ]
  },
  {
   "cell_type": "markdown",
   "id": "9dd1b364",
   "metadata": {},
   "source": [
    "#### (9) Get mutation Counts"
   ]
  },
  {
   "cell_type": "code",
   "execution_count": null,
   "id": "3e6a3877",
   "metadata": {},
   "outputs": [],
   "source": [
    "def mutation_rate(mutation_count_file):\n",
    "    total_len = 0\n",
    "    mutation_count = 0\n",
    "    with open(mutation_count_file) as read_obj:\n",
    "        for line in read_obj:\n",
    "            chrom, start, end, count = line.strip().split('\\t')\n",
    "            site_len = int(end) - int(start)\n",
    "            total_len += site_len\n",
    "            mutation_count += int(count)\n",
    "    return mutation_count / total_len\n",
    "\n",
    "os.makedirs(f\"{OUTPUT_SX}/Background_Intersection\", exist_ok=True)"
   ]
  },
  {
   "cell_type": "code",
   "execution_count": null,
   "id": "87ab2d4f",
   "metadata": {},
   "outputs": [],
   "source": [
    "%%bash\n",
    "# ZM Backgrounds\n",
    "for i in {0..99}\n",
    "do\n",
    "    for tf in CREB1 EGR1\n",
    "    do\n",
    "        for min_length in 15 20 25\n",
    "        do\n",
    "            bedtools intersect -a \"../Figure_SX/NonConsensus_${tf}_in_Promoters_${min_length}_unique.bed\" -b \"../Figure_SX/Promoter_Backgrounds/Background_${i}.bed\" -c > \"../Figure_SX/Background_Intersection/NC_${tf}_${min_length}_Counts_${i}.bed\"\n",
    "        done\n",
    "        bedtools intersect -a \"../Figure_SX/${tf}_PWM_Promoter_Calls_Unique.bed\" -b \"../Figure_SX/Promoter_Backgrounds/Background_${i}.bed\" -c > \"../Figure_SX/Background_Intersection/${tf}_PWM_Background_Counts_${i}.bed\"\n",
    "    done\n",
    "done"
   ]
  },
  {
   "cell_type": "code",
   "execution_count": null,
   "id": "765a8313",
   "metadata": {},
   "outputs": [],
   "source": [
    "%%bash\n",
    "# Harshit's Backgrounds\n",
    "for i in {0..99}\n",
    "do\n",
    "    for tf in CREB1 EGR1\n",
    "    do\n",
    "        for min_length in 15 20 25\n",
    "        do\n",
    "            bedtools intersect -a \"../Figure_SX/NonConsensus_${tf}_in_Promoters_${min_length}_unique.bed\" -b \"../Figure_SX/shuffled_mutations/skcm_promoter_mutations_reconstructed_from_trimers_shuffle${i}\" -c > \"../Figure_SX/Background_Intersection/NC_${tf}_${min_length}_Counts_${i}.bed\"\n",
    "        done\n",
    "        bedtools intersect -a \"../Figure_SX/${tf}_PWM_Promoter_Calls_Unique.bed\" -b \"../Figure_SX/shuffled_mutations/skcm_promoter_mutations_reconstructed_from_trimers_shuffle${i}\" -c > \"../Figure_SX/Background_Intersection/${tf}_PWM_Background_Counts_${i}.bed\"\n",
    "    done\n",
    "done"
   ]
  },
  {
   "cell_type": "code",
   "execution_count": null,
   "id": "732a9506",
   "metadata": {},
   "outputs": [],
   "source": [
    "os.makedirs(f\"{OUTPUT_SX}/Site_Shuffle\", exist_ok=True)\n",
    "os.makedirs(f\"{OUTPUT_SX}/Site_Shuffle_Intersection\", exist_ok=True)"
   ]
  },
  {
   "cell_type": "code",
   "execution_count": null,
   "id": "2b36ae4b",
   "metadata": {},
   "outputs": [],
   "source": [
    "%%bash\n",
    "# Shuffle sites \n",
    "\n",
    "for i in {0..99}\n",
    "do\n",
    "    for tf in CREB1 EGR1\n",
    "    do\n",
    "        for min_length in 15 20 25\n",
    "        do\n",
    "            bedtools shuffle -seed 0 -i \"../Figure_SX/NonConsensus_${tf}_in_Promoters_${min_length}_unique.bed\" -g \"../Figure_SX/hg19.chrom.sizes\" -incl \"../Figure_SX/Promoter2000_Merged.Bed\" > \"../Figure_SX/Site_Shuffle/${tf}_${min_length}_Shuffle_${i}.bed\" \n",
    "            bedtools intersect -a \"../Figure_SX/Site_Shuffle/${tf}_${min_length}_Shuffle_${i}.bed\" -b \"../Figure_SX/skcm_mutations_promoter2000.bed\" -c > \"../Figure_SX/Site_Shuffle_Intersection/NC_${tf}_${min_length}_Counts_${i}.bed\"\n",
    "        done\n",
    "        bedtools shuffle -seed 0 -i \"../Figure_SX/${tf}_PWM_Promoter_Calls_Unique.bed\" -g \"../Figure_SX/hg19.chrom.sizes\" -incl \"../Figure_SX/Promoter2000_Merged.Bed\" > \"../Figure_SX/Site_Shuffle/${tf}_PWM_Shuffle_${i}.bed\" \n",
    "    done\n",
    "done"
   ]
  },
  {
   "cell_type": "code",
   "execution_count": null,
   "id": "f5d5263e",
   "metadata": {},
   "outputs": [],
   "source": [
    "%%bash\n",
    "bedtools getfasta -fi ../../Data/External_Data/human_g1k_v37.fasta -fo ../Figure_SX/skcm_mutations_promoter2000_0base.tsv -tab -bed ../Figure_SX/skcm_mutations_promoter2000.bed"
   ]
  },
  {
   "cell_type": "code",
   "execution_count": null,
   "id": "04a82a8c",
   "metadata": {},
   "outputs": [],
   "source": [
    "def mutation_rate_parts(mutation_count_file):\n",
    "    total_len = 0\n",
    "    mutation_count = 0\n",
    "    with open(mutation_count_file) as read_obj:\n",
    "        for line in read_obj:\n",
    "            chrom, start, end, count = line.strip().split('\\t')\n",
    "            site_len = int(end) - int(start)\n",
    "            total_len += site_len\n",
    "            mutation_count += int(count)\n",
    "    return (mutation_count, total_len)\n"
   ]
  },
  {
   "cell_type": "code",
   "execution_count": null,
   "id": "acdce11a",
   "metadata": {},
   "outputs": [],
   "source": [
    "mutation_rate_parts(f\"{OUTPUT_SX}/CREB1_PWM_Promoter_Unique_Mutation_Counts_orig.bed\")\n"
   ]
  },
  {
   "cell_type": "code",
   "execution_count": null,
   "id": "96e24e2e",
   "metadata": {},
   "outputs": [],
   "source": [
    "mutation_rate_parts(f\"{OUTPUT_SX}/CREB1_PWM_Promoter_Unique_Mutation_Counts.bed\")\n"
   ]
  },
  {
   "cell_type": "code",
   "execution_count": null,
   "id": "739de81c",
   "metadata": {},
   "outputs": [],
   "source": [
    "mutation_rate_parts(f\"{OUTPUT_SX}/EGR1_PWM_Promoter_Unique_Mutation_Counts_orig.bed\")\n"
   ]
  },
  {
   "cell_type": "code",
   "execution_count": null,
   "id": "3a6b4434",
   "metadata": {},
   "outputs": [],
   "source": [
    "mutation_rate_parts(f\"{OUTPUT_SX}/EGR1_PWM_Promoter_Unique_Mutation_Counts.bed\")\n"
   ]
  },
  {
   "cell_type": "code",
   "execution_count": null,
   "id": "51daba0e",
   "metadata": {},
   "outputs": [],
   "source": [
    "%%bash\n",
    "\n",
    "bedtools intersect -a \"../Figure_SX/skcm_mutations_promoter2000_orig.bed\" -b \"../Figure_SX/skcm_mutations_promoter2000.bed\" -v > \"../Figure_SX/skcm_mutation_base_diff.bed\"\n",
    "bedtools sort -i \"../Figure_SX/skcm_mutation_base_diff.bed\" > \"../Figure_SX/skcm_mutation_base_diff_sorted.bed\"\n",
    "bedtools intersect -wa -wb -a \"../Figure_SX/CREB1_PWM_Promoter_Calls_Unique.bed\" -b \"../Figure_SX/skcm_mutations_promoter2000_orig.bed\" > \"../Figure_SX/CREB1_Mutations_Intersections.bed\"\n",
    "\n",
    "\n"
   ]
  },
  {
   "cell_type": "code",
   "execution_count": null,
   "id": "5452dcf5",
   "metadata": {},
   "outputs": [],
   "source": [
    "orig = pd.read_csv(f\"{OUTPUT_SX}/CREB1_PWM_Promoter_Unique_Mutation_Counts_orig.bed\", sep='\\t', header=None)\n",
    "base = pd.read_csv(f\"{OUTPUT_SX}/CREB1_PWM_Promoter_Unique_Mutation_Counts.bed\", sep='\\t', header=None)\n",
    "\n",
    "merged = pd.merge(orig, base, on=[0, 1, 2])\n",
    "merged[\"Diff\"] = abs(merged[\"3_x\"] - merged[\"3_y\"])\n",
    "merged[merged[\"Diff\"] == 1].sort_values(by=\"Diff\")\n",
    "\n",
    "\n"
   ]
  },
  {
   "cell_type": "code",
   "execution_count": null,
   "id": "13682453",
   "metadata": {
    "scrolled": true
   },
   "outputs": [],
   "source": [
    "merged[\"Diff\"].value_counts()"
   ]
  },
  {
   "cell_type": "code",
   "execution_count": null,
   "id": "008c5d84",
   "metadata": {},
   "outputs": [],
   "source": [
    "%%bash\n",
    "# Intersect PWM Calls with Mutations\n",
    "for tf in CREB1 EGR1\n",
    "do\n",
    "    bedtools intersect -a \"../Figure_SX/${tf}_PWM_Promoter_Calls_Unique.bed\" -b \"../Figure_SX/skcm_mutations_promoter2000.bed\" -c > \"../Figure_SX/${tf}_PWM_Promoter_Unique_Mutation_Counts.bed\"\n",
    "done"
   ]
  },
  {
   "cell_type": "code",
   "execution_count": null,
   "id": "e34762ed",
   "metadata": {},
   "outputs": [],
   "source": [
    "%%bash\n",
    "# Intersect PWM Calls with Mutations\n",
    "for tf in CREB1 EGR1\n",
    "do\n",
    "    bedtools flank -i \"../Figure_SX/${tf}_PWM_Promoter_Calls_Unique.bed\" -g \"../Figure_SX/hg19.chrom.sizes\" -b 5 > \"../Figure_SX/${tf}_PWM_Promoter_Calls_Unique.bed\"\n",
    "    bedtools intersect -a \"../Figure_SX/${tf}_PWM_Promoter_Calls_Unique.bed\" -b \"../Figure_SX/skcm_mutations_promoter2000.bed\" -c > \"../Figure_SX/${tf}_PWM_Promoter_Unique_Mutation_Counts.bed\"\n",
    "done"
   ]
  },
  {
   "cell_type": "code",
   "execution_count": null,
   "id": "5fbb0080",
   "metadata": {},
   "outputs": [],
   "source": [
    "# Aggregate counts\n",
    "N = 100\n",
    "mr_dict = defaultdict(list)\n",
    "for tf in (\"CREB1\", \"EGR1\"):\n",
    "    for min_length in (15, 20, 25):\n",
    "        for i in range(N):\n",
    "            mr = mutation_rate(f\"../Figure_SX/Background_Intersection/NC_{tf}_{min_length}_Counts_{i}.bed\")\n",
    "            mr_dict[f\"{tf}_{min_length}\"].append(mr)\n",
    "    for i in range(N):\n",
    "        mr = mutation_rate(f\"../Figure_SX/Background_Intersection/{tf}_PWM_Background_Counts_{i}.bed\")\n",
    "        mr_dict[f\"{tf}_pwm\"].append(mr)"
   ]
  },
  {
   "cell_type": "code",
   "execution_count": null,
   "id": "0e635557",
   "metadata": {},
   "outputs": [],
   "source": [
    "# Organize DataFrame\n",
    "\n",
    "background_df = pd.DataFrame.from_dict(mr_dict, orient='index').T\n",
    "background_df.melt().to_csv(f\"{OUTPUT_SX}/Background_Rates.csv\", index=False)"
   ]
  },
  {
   "cell_type": "code",
   "execution_count": null,
   "id": "5d864f75",
   "metadata": {},
   "outputs": [],
   "source": [
    "mutation_df = []\n",
    "for tf in (\"CREB1\", \"EGR1\"):\n",
    "    for min_length in (15, 20, 25):\n",
    "        mr = mutation_rate(f\"../Figure_SX/NonConsensus_{tf}_in_Promoters_{min_length}_Unique_Mutation_Counts.bed\")\n",
    "        mutation_df.append((f\"{tf}_{min_length}\", mr))\n",
    "    mr = mutation_rate(f\"../Figure_SX/{tf}_PWM_Promoter_Unique_Mutation_Counts.bed\")\n",
    "    mutation_df.append((f\"{tf}_pwm\", mr))\n",
    "mutation_df = pd.DataFrame(mutation_df).rename(columns={0:\"variable\", 1:\"value\"})\n",
    "mutation_df.to_csv(f\"{OUTPUT_SX}/Mutation_Rates.csv\", index=False)"
   ]
  },
  {
   "cell_type": "code",
   "execution_count": null,
   "id": "95f7e078",
   "metadata": {},
   "outputs": [],
   "source": [
    "#sns.catplot(data=background_df.melt(), x=\"variable\", y=\"value\", kind=\"violin\", color=\".9\", inner=None)\n",
    "sns.stripplot(data=background_df.melt(), x=\"variable\", y=\"value\", size=3, color='black')\n",
    "sns.stripplot(data=mutation_df, x=\"variable\", y=\"value\", size=6, color='red')\n",
    "plt.xticks(rotation=90)\n",
    "plt.xlabel(xlabel='')\n",
    "plt.ylabel(ylabel='Mutation Rate (sum mutations / total length)')"
   ]
  },
  {
   "cell_type": "code",
   "execution_count": null,
   "id": "8ffe844b",
   "metadata": {},
   "outputs": [],
   "source": [
    "###############################################"
   ]
  },
  {
   "cell_type": "code",
   "execution_count": null,
   "id": "370684db",
   "metadata": {},
   "outputs": [],
   "source": [
    "# Read PWMs from Supplementary Table 3A\n",
    "pwm_df = pd.read_csv(PWMS)\n",
    "# Call sites for each protein, save percent promoters in PWM percentages\n",
    "pwm_percentages = []\n",
    "for protein in (\"CREB1\", \"EGR1\"):\n",
    "    # Convert Probability PWMs to LogOdds for MOODS   \n",
    "    logodds_pwm_from_pwms(f\"{protein}_NonUV\", pwm_df)\n",
    "    # Call binding sites using MOODS\n",
    "    call_sites_moods(f\"{OUTPUT_SX}/{protein}_NonUV_pwm_logodds.txt\",\n",
    "                     f\"{OUTPUT_SX}/Promoter2000.fasta\",\n",
    "                     f\"{OUTPUT_SX}/{protein}_PWM_Promoter_Calls.csv\")\n",
    "    call_df = pd.read_csv(f\"{OUTPUT_SX}/{protein}_PWM_Promoter_Calls.csv\", header=None)\n",
    "    call_df = call_df.rename(columns={0:\"Promoter\",\n",
    "                                  1:\"PWM\",\n",
    "                                  2:\"Match_Idx\",\n",
    "                                  3:\"Orient\",\n",
    "                                  4:\"Score\",\n",
    "                                  5:\"Seq\",\n",
    "                                  6:\"N\"})\n",
    "    called_promoters = len(list(set(call_df[\"Promoters\"])))\n",
    "    pwm_percentages.append((protein, \"PWM_Calls\", called_promoters / total_promoter_count))\n",
    "    # Convert calls to BED format with no duplicates\n",
    "    bed_df = []\n",
    "    for row in call_df.itertuples():\n",
    "        chrom = row.Promoter.split(\":\")[0]\n",
    "        start = int(row.Promoter.split(\":\")[1].split('-')[0])\n",
    "        start = start + row.Match_Idx\n",
    "        bed_df.append((chrom, start, start + len(row.Seq)))\n",
    "    bed_df = pd.DataFrame(bed_df)\n",
    "    bed_df = bed_df.rename(columns={0:\"Chromosome\", 1:\"Start\", 2:\"End\"})\n",
    "    bed_df = bed_df.drop_duplicates().reset_index(drop=True)\n",
    "    bed_df.to_csv(f\"{OUTPUT_SX}/{protein}_PWM_Promoter_Calls_Unique.bed\", sep='\\t', index=False, header=None)"
   ]
  }
 ],
 "metadata": {
  "kernelspec": {
   "display_name": "Python 3 (ipykernel)",
   "language": "python",
   "name": "python3"
  },
  "language_info": {
   "codemirror_mode": {
    "name": "ipython",
    "version": 3
   },
   "file_extension": ".py",
   "mimetype": "text/x-python",
   "name": "python",
   "nbconvert_exporter": "python",
   "pygments_lexer": "ipython3",
   "version": "3.9.12"
  }
 },
 "nbformat": 4,
 "nbformat_minor": 5
}
