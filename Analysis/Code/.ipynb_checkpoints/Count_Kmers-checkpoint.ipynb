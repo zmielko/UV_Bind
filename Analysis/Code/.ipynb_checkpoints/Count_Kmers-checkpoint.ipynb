{
 "cells": [
  {
   "cell_type": "code",
   "execution_count": 29,
   "id": "7f3c58e4",
   "metadata": {},
   "outputs": [],
   "source": [
    "import uvbind_analysis_core as uac\n",
    "from collections import defaultdict\n",
    "import pandas as pd\n",
    "import argparse\n",
    "\n",
    "\n",
    "def parse_args():\n",
    "    parser = argparse.ArgumentParser()\n",
    "    parser.add_argument(\"input_file\",\n",
    "                        type=str,\n",
    "                        help=\"Chromosome file.\")\n",
    "    parser.add_argument(\"--output_file\",\n",
    "                        type=str,\n",
    "                        help=\"Output file location.\")\n",
    "    args = parser.parse_args()\n",
    "    return args\n",
    "\n",
    "def count_kmers(sequence, to_dict, k=6):\n",
    "    for i in range(len(sequence) - k + 1):\n",
    "        kmer = sequence[i:i+k]\n",
    "        if \"N\" not in kmer:\n",
    "            if kmer in result_dict:\n",
    "                to_dict[kmer] += 1\n",
    "            else:\n",
    "                to_dict[uac.reverse_complement(kmer)] += 1\n",
    "            \n",
    "def count_chromosome_kmers(chromosome_file, to_dict):\n",
    "    with open(chromosome_file) as file_obj:\n",
    "        next(file_obj)\n",
    "        for i in file_obj:\n",
    "            count_kmers(i.strip().upper(), to_dict)\n",
    "\n",
    "if __name__ == \"__main__\":\n",
    "    args = parse_args()\n",
    "    result_dict = defaultdict(int)\n",
    "    count_chromosome_kmers(args.input_file, result_dict)\n",
    "    result_df = pd.DataFrame.from_dict(result_dict,\n",
    "                             orient='index').reset_index()\n",
    "    result_df = result_df.rename(columns={\"index\":\"Kmer\", 0:\"Count\"})\n",
    "    result_df.to_csv(args.output_file, index=False)"
   ]
  },
  {
   "cell_type": "code",
   "execution_count": null,
   "id": "276fdac6",
   "metadata": {},
   "outputs": [],
   "source": []
  }
 ],
 "metadata": {
  "kernelspec": {
   "display_name": "Python 3 (ipykernel)",
   "language": "python",
   "name": "python3"
  },
  "language_info": {
   "codemirror_mode": {
    "name": "ipython",
    "version": 3
   },
   "file_extension": ".py",
   "mimetype": "text/x-python",
   "name": "python",
   "nbconvert_exporter": "python",
   "pygments_lexer": "ipython3",
   "version": "3.9.12"
  }
 },
 "nbformat": 4,
 "nbformat_minor": 5
}
