{
 "cells": [
  {
   "cell_type": "markdown",
   "metadata": {},
   "source": [
    "## Figure 2; Supplementary Figure 3A-C; Supplementary Table 3\n",
    "\n",
    "Analysis for comparisons of PWM data generated from universal UV-Bind data. \n",
    "\n",
    "\n",
    "### Overview - Model alignment and trimming\n",
    "\n",
    "PWM files generated from Seed-and-Wobble are processed and compared. The models are by default an arbitrary length and an arbitrary orientation. To directly compare models across Non-UV and UV conditions of the same trancription factor (TF) these need to be addressed. For each transcription factor:\n",
    "\n",
    "1. A consensus sequence of the binding core is given to define a binding site. \n",
    "2. This sequence is scored across the PWM in both orientations. The top scoring position is considered the binding site. \n",
    "3. The submatrix for non-UV of the top scoring position is then compared to the UV matrix using KL divergence.\n",
    "4. The position of minimum divergence is considered the aligned position between the two models. \n",
    "5. The models are then extended by 3 to account for flanking sequence.\n",
    "\n",
    "\n",
    "### 3rd Party Packages\n",
    "\n",
    "1. Logomaker - Plotting PWM logos\n",
    "2. Matplotlib - Adjusting parameters for logomaker plots\n",
    "3. Numpy - Array usage\n",
    "4. Pandas - Dataframe usage\n",
    "5. Scipy - KL Divergence\n",
    "\n",
    "### UV Bind Analysis Core Imports\n",
    "\n",
    "- uac.PYDI: Tuple of pyrimidine dinucleotides and their reverse complements\n",
    "\n",
    "** Additional details can be found in the uvbind_analysis_core.py script.\n",
    "\n",
    "### Abbreviations:\n",
    "\n",
    "- pydi: Pyrimidine Dinucleotide\n",
    "- df: DataFrame\n",
    "- pdf: Probability DataFrame\n",
    "- kl: Kullback–Leibler\n",
    "- ic: Information Content\n",
    "- dict: Dictionary\n",
    "- pwm: Position Weight Matrix\n",
    "- nuv: Non-UV"
   ]
  },
  {
   "cell_type": "markdown",
   "metadata": {},
   "source": [
    "### Imports and Meta Data"
   ]
  },
  {
   "cell_type": "code",
   "execution_count": 1,
   "metadata": {},
   "outputs": [],
   "source": [
    "# Imports\n",
    "from __future__ import annotations\n",
    "import os\n",
    "\n",
    "from bokeh.io import export_svg\n",
    "from bokeh.models import VBar\n",
    "from bokeh.plotting import figure, ColumnDataSource\n",
    "import logomaker\n",
    "import numpy as np\n",
    "import matplotlib\n",
    "import matplotlib.pyplot as plt\n",
    "from matplotlib import rcParams\n",
    "import pandas as pd\n",
    "import scipy.special\n",
    "from scipy import stats\n",
    "import seaborn as sns\n",
    "\n",
    "import uvbind_analysis_core as uac\n",
    "\n",
    "\n",
    "# Global Variables\n",
    "# Input folders\n",
    "DATA_FOLDER = \"../../Data/PWM_Files\"\n",
    "META_DATA_FILE = \"Meta_Data/Meta_Data_PWM_Comparisons.csv\"\n",
    "# Output folders\n",
    "OUTPUT_FOLDER_F2 = \"../Figure_2\"\n",
    "OUTPUT_FOLDER_SUPP = \"../Figure_S3\"\n",
    "OUTPUT_FOLDER_T = \"../Table_S3\"\n",
    "# Colors for PWM logos\n",
    "LOGO_COLOR_SCHEME = {\"A\":(0, 0.8, 0), # R G B\n",
    "                     \"C\":(0, 0, 0.8),\n",
    "                     \"G\":(0.8, 0.8, 0.1),\n",
    "                     \"T\":(0.8, 0, 0.1)}\n",
    "# Color for PWM probability differences boxplot and bargraphs\n",
    "# Color is UV conditions relative to non UV conditions\n",
    "INCREASE_COLOR = \"#8db0fe\"\n",
    "DECREASE_COLOR = \"#f4987a\""
   ]
  },
  {
   "cell_type": "code",
   "execution_count": 2,
   "metadata": {},
   "outputs": [],
   "source": [
    "for folder in (OUTPUT_FOLDER_F2, OUTPUT_FOLDER_SUPP, OUTPUT_FOLDER_T):\n",
    "    os.makedirs(folder, exist_ok=True)"
   ]
  },
  {
   "cell_type": "markdown",
   "metadata": {},
   "source": [
    "### Figure 2B-C; Supplementary Figure 3A: PWM trimming and alignment\n",
    "\n",
    "PWM files generated from Seed-and-Wobble are processed and compared. The models are by default an arbitrary length and an arbitrary orientation. To directly compare models across Non-UV and UV conditions of the same trancription factor (TF) these need to be addressed. For each transcription factor:\n",
    "\n",
    "1. A consensus sequence of the binding core is given to define a binding site. \n",
    "2. This sequence is scored across the PWM in both orientations. The top scoring position is considered the binding site. \n",
    "3. The submatrix for non-UV of the top scoring position is then compared to the UV matrix using KL divergence.\n",
    "4. The position of minimum divergence is considered the aligned position between the two models. \n",
    "5. The models are then extended by 3 to account for flanking sequence.\n",
    "\n",
    "\n",
    "#### (1) Functions:"
   ]
  },
  {
   "cell_type": "code",
   "execution_count": 3,
   "metadata": {},
   "outputs": [],
   "source": [
    "def matrix_position(file_path: str, matrix_name: str) -> int:\n",
    "    \"\"\"Returns number of lines to skip for given matrix name\n",
    "\n",
    "    :param file_path: Relative path to the PWM file\n",
    "    :type file_path: str\n",
    "    :param matrix_name: Name of the matrix (Probability, Enrichment, etc.)\n",
    "    :type matrix_name: str\n",
    "    :returns: Number of lines to skip when reading the file\n",
    "    \"\"\"\n",
    "    # Parse file for matrix to read\n",
    "    skip = -1\n",
    "    file_object = open(file_path, 'r')\n",
    "    for idx, line in enumerate(file_object):\n",
    "        if line.startswith(matrix_name):\n",
    "            skip = idx + 2\n",
    "            break\n",
    "    file_object.close()\n",
    "    if skip == -1:\n",
    "        raise ValueError(f\"Cannot find {matrix_name} in file.\")\n",
    "    return skip\n",
    "\n",
    "\n",
    "def read_pwm_matrix(file_path: str,\n",
    "                    matrix_name: str = \"Prob\") -> pd.DataFrame:\n",
    "    \"\"\"Returns top PWM from a PWM Seed-and-Wobble output\n",
    "\n",
    "    :param file_path: Relative path to the PWM file\n",
    "    :type file_path: str\n",
    "    :param skip: Number of rows to skip in reading the probability matrix\n",
    "    :type skip: int\n",
    "    :returns: PWM matrix in long form (columns = A, C, G, T)\n",
    "    \"\"\"\n",
    "    skip = matrix_position(file_path, matrix_name)\n",
    "    # Read matrix\n",
    "    pwm = pd.read_csv(file_path,\n",
    "                      sep='\\t',\n",
    "                      skiprows=skip,\n",
    "                      header=None,\n",
    "                      nrows=4)\n",
    "    pwm = pwm[pwm.columns[1:]]\n",
    "    pwm_long = pwm.T\n",
    "    pwm_long = pwm_long.rename(columns={0: 'A', 1: 'C', 2: 'G', 3: 'T'})\n",
    "    return pwm_long.reset_index(drop=True)\n",
    "\n",
    "\n",
    "def reverse_complement_matrix(pwm_long: pd.DataFrame) -> pd.DataFrame:\n",
    "    \"\"\"Reverse complement of long form PWM matrix\n",
    "\n",
    "    :param pwm_long: Long form PWM matrix\n",
    "    :type pwm_long: pd.DataFrame\n",
    "    :returns: Reverse complement of input matrix as a pd.Dataframe\n",
    "    \"\"\"\n",
    "    pwm = pwm_long.iloc[::-1, :]\n",
    "    pwm = pwm.reset_index(drop=True)\n",
    "    pwm = pwm.rename(columns={'A': 'T', 'T': 'A', 'C': 'G', 'G': 'C'})\n",
    "    pwm = pwm[['A', 'C', 'G', 'T']]\n",
    "    return pwm\n",
    "\n",
    "\n",
    "def plot_ic_matrix_logo(matrix: pd.DataFrame, ax, color_scheme) -> logomaker.Logo:\n",
    "    \"\"\"Save an information content logo from a long format matrix to output\"\"\"\n",
    "    logo = logomaker.Logo(matrix,ax=ax, color_scheme=color_scheme)\n",
    "    logo.style_spines(spines=[\"left\", \"bottom\"], visible=True)\n",
    "    # No tick marks or labels\n",
    "    logo.ax.set_xticks([])\n",
    "    logo.ax.set_yticks([])\n",
    "    logo.ax.set_yticklabels([])\n",
    "    # ylim is 0, 2 since the PWM information content ranges from 0 to 2\n",
    "    logo.ax.set_ylim([0, 2])\n",
    "    return logo\n",
    "\n",
    "\n",
    "def max_scoring_position(kmer: str,\n",
    "                         pwm: pd.DataFrame) -> tuple[int, float]:\n",
    "    \"\"\"Return the position of the max score and that score.\n",
    "\n",
    "    Given a kmer and pwm in long format, finds the maximum\n",
    "    scoring position of the kmer and returns a tuple of the\n",
    "    position and score.\n",
    "    \"\"\"\n",
    "    max_score = 0\n",
    "    max_position = -1\n",
    "    for i in range(len(pwm) - len(kmer) + 1):\n",
    "        # Get score of local range\n",
    "        subscore = 1\n",
    "        for idx, j in enumerate(kmer):\n",
    "            probability = pwm[j][i + idx]\n",
    "            subscore *= probability\n",
    "        if subscore > max_score:\n",
    "            max_score = subscore\n",
    "            max_position = i\n",
    "    return (max_position, max_score)\n",
    "\n",
    "\n",
    "def top_submatrix_from_kmer(kmer: str,\n",
    "                            pwm: pd.DataFrame,\n",
    "                            extend=3) -> pd.DataFrame:\n",
    "    \"\"\"Return the top scoring submatrix in either orientation from a kmer.\n",
    "    \n",
    "    Given a kmer, pwm in long format, and a parameter to extend the match,\n",
    "    return a submatrix of the pwm that overlaps with the top scoring position\n",
    "    of the kmer extended by the number of positions in the extend parameter if\n",
    "    possible. Return a submatrix in long format.\n",
    "    \"\"\"\n",
    "    orient_a = max_scoring_position(kmer, pwm)\n",
    "    pwm_reverse_complement = reverse_complement_matrix(pwm)\n",
    "    orient_b = max_scoring_position(kmer, pwm_reverse_complement)\n",
    "    if orient_a[1] > orient_b[1]:\n",
    "        orient = orient_a\n",
    "        pwm_oriented = pwm\n",
    "    else:\n",
    "        orient = orient_b\n",
    "        pwm_oriented = pwm_reverse_complement\n",
    "    start = max(0, orient[0] - extend)\n",
    "    end = min(len(pwm_oriented) - 1, orient[0] + len(kmer) + extend)\n",
    "    return pwm_oriented.iloc[start:end, :].reset_index(drop=True)\n",
    "\n",
    "\n",
    "def kl_divergence(p, q):\n",
    "    \"\"\"Kullback-Leibler divergence in bits\"\"\"\n",
    "    return np.sum(np.where(p != 0, p * np.log2(p / q), 0))\n",
    "\n",
    "\n",
    "def kl_divergence_sum(pwm_a: pd.DataFrame,\n",
    "                      pwm_b: pd.DataFrame) -> float:\n",
    "    \"\"\"Returns the sum of divergences\"\"\"\n",
    "    kl_sum = 0\n",
    "    for i in range(len(pwm_a)):\n",
    "        np_matrix_a = np.array(list(pwm_a.T[i]))\n",
    "        np_matrix_b = np.array(list(pwm_b.T[i]))\n",
    "        kl_sum += kl_divergence(np_matrix_a, np_matrix_b)\n",
    "    return kl_sum\n",
    "\n",
    "\n",
    "def min_kl_divergence_overlap(pwm_small: pd.DataFrame,\n",
    "                              pwm_large: pd.DataFrame):\n",
    "    \"\"\"Position and value of the minimum KL divergence.\n",
    "    \n",
    "    Given a pwm of less than or equal length (pwm_small) and a larger or \n",
    "    equal size pwm, returns a tuple conainting the following:\n",
    "    1. Position of minimal divergence\n",
    "    2. Value of minimal divergence\n",
    "    \"\"\"\n",
    "    best_match_position = -1\n",
    "    best_match_distance = float('inf')\n",
    "    for i in range(len(pwm_large) - len(pwm_small) + 1):\n",
    "        start = i\n",
    "        end = i + len(pwm_small)\n",
    "        pwm_b = pwm_large.iloc[start:end, :].reset_index(drop=True)\n",
    "        distance = kl_divergence_sum(pwm_small,\n",
    "                                     pwm_b)\n",
    "        if distance < best_match_distance:\n",
    "            best_match_position = i\n",
    "            best_match_distance = distance\n",
    "    return (best_match_position, best_match_distance)\n",
    "\n",
    "\n",
    "def best_match(pwm_a: pd.DataFrame,\n",
    "               pwm_b: pd.DataFrame,\n",
    "               consensus: str,\n",
    "               extend: int = 3) -> pd.DataFrame:\n",
    "    \"\"\"Returns the pwm_b subset with the minimum KL divergence from pwm_a.\"\"\"\n",
    "    # Return the pwm_a subset of the top scoring overlap of the consensus sequence.\n",
    "    pwm_query = top_submatrix_from_kmer(consensus, pwm_a, extend=0)\n",
    "    pwm_b_reverse_complement = reverse_complement_matrix(pwm_b)\n",
    "    # Compare both orientations of the subset and pick the one with the best match\n",
    "    orient_a = min_kl_divergence_overlap(pwm_query, pwm_b)\n",
    "    orient_b = min_kl_divergence_overlap(pwm_query,\n",
    "                                         pwm_b_reverse_complement)\n",
    "    if orient_a[1] < orient_b[1]:\n",
    "        orient = orient_a\n",
    "        pwm_oriented = pwm_b\n",
    "    else:\n",
    "        orient = orient_b\n",
    "        pwm_oriented = pwm_b_reverse_complement\n",
    "    # Based on the best match, return the subset of b in the best matching orientation\n",
    "    start = max(0, orient[0] - extend)\n",
    "    end = min(len(pwm_oriented) - 1, orient[0] + len(consensus) + extend)\n",
    "    return pwm_oriented.iloc[start:end, :].reset_index(drop=True)\n",
    "\n",
    "\n"
   ]
  },
  {
   "cell_type": "markdown",
   "metadata": {},
   "source": [
    "#### (2) Analysis:\n",
    "\n",
    "The PWM files are drawn in a group of 2 figures, each containing a row of PWMs."
   ]
  },
  {
   "cell_type": "code",
   "execution_count": 6,
   "metadata": {},
   "outputs": [],
   "source": [
    "# Read meta data\n",
    "full_meta_data = pd.read_csv(META_DATA_FILE)\n",
    "ic_matrix_list = []\n",
    "pwm_dict = {}\n",
    "# For each row of PWM logos\n",
    "for subplot, subplot_name in ((0, \"Top_Row\"), (1, \"Bottom_Row\")):\n",
    "    meta_data = full_meta_data[full_meta_data[\"Subplot\"] == subplot].reset_index(drop=True)\n",
    "    # For each row, generate the plots specified\n",
    "    fig, ax_array = plt.subplots(2, 5)\n",
    "    fig.set_size_inches(40, 5)\n",
    "    for row in meta_data.itertuples():\n",
    "        # Read PWM files for non-UV and UV\n",
    "        pwm_nuv = read_pwm_matrix(f\"{DATA_FOLDER}/{row.Non_UV}_{row.File_Non_UV}\")\n",
    "        pwm_uv = read_pwm_matrix(f\"{DATA_FOLDER}/{row.UV}_{row.File_UV}\")\n",
    "        # Trim the non-UV matrix based on the consensus site\n",
    "        pwm_nuv = top_submatrix_from_kmer(row.Consensus, pwm_nuv)\n",
    "        # Find best match to the UV matrix\n",
    "        pwm_uv = best_match(pwm_nuv, pwm_uv, row.Consensus)\n",
    "        # List of pairs to save\n",
    "        pwm_list = []\n",
    "        # Plot the logos\n",
    "        for pwm, name, rn in zip((pwm_nuv, pwm_uv), (row.Non_UV, row.UV), (0, 1)):\n",
    "            information_matrix = logomaker.transform_matrix(pwm,\n",
    "                                                            from_type=\"probability\",\n",
    "                                                            to_type=\"information\")\n",
    "            logo = plot_ic_matrix_logo(information_matrix,\n",
    "                                       ax=ax_array[rn][row.Figure_Column],\n",
    "                                       color_scheme=LOGO_COLOR_SCHEME)\n",
    "            information_matrix[\"Experiment\"] = name\n",
    "            ic_matrix_list.append(information_matrix)\n",
    "            pwm_list.append(pwm)\n",
    "        # Add PWM list pair to the dictionary as a tuple\n",
    "        pwm_dict[row.Protein] = tuple(pwm_list)\n",
    "    plt.subplots_adjust(wspace=0.05)\n",
    "    plt.savefig(fname=f\"{OUTPUT_FOLDER_F2}/{subplot_name}.svg\",format='svg')\n",
    "    plt.savefig(fname=f\"{OUTPUT_FOLDER_SUPP}/{subplot_name}.svg\",format='svg')\n",
    "    plt.close()\n",
    "# Concatinate the raw plotted data for the logos and save\n",
    "#ic_plotted_data = pd.concat(ic_matrix_list)\n",
    "#ic_plotted_data = ic_plotted_data.reset_index()\n",
    "#ic_plotted_data = ic_plotted_data.rename(columns={\"pos\":\"Position\"})\n",
    "#ic_plotted_data[\"Experiment\"] = ic_plotted_data[\"Experiment\"].apply(lambda x: \"_\".join(x.split('_')[:2]))\n",
    "#ic_plotted_data[\"Experiment\"] = ic_plotted_data[\"Experiment\"].apply(lambda x: x.replace(\"_WC\", \"_NonUV\"))\n",
    "#ic_plotted_data.to_csv(f\"{OUTPUT_FOLDER_T}/Table_S3A.csv\", index=False, float_format=\"%.6f\")"
   ]
  },
  {
   "cell_type": "markdown",
   "metadata": {},
   "source": [
    "### Supplementary Table 3A - PWM Probabilities"
   ]
  },
  {
   "cell_type": "code",
   "execution_count": 15,
   "metadata": {},
   "outputs": [],
   "source": [
    "# Concatinate the PWM data as probabilities and save\n",
    "s_table_3a = []\n",
    "for protein in pwm_dict.copy():\n",
    "    nuv, uv = pwm_dict[protein]\n",
    "    nuv[\"Experiment\"] = f\"{protein}_NonUV\"\n",
    "    uv[\"Experiment\"] = f\"{protein}_UV\"\n",
    "    s_table_3a.append(nuv)\n",
    "    s_table_3a.append(uv)\n",
    "s_table_3a = pd.concat(s_table_3a).reset_index()\n",
    "s_table_3a = s_table_3a.rename(columns={\"index\":\"Position\"})\n",
    "s_table_3a.to_csv(f\"{OUTPUT_FOLDER_T}/Table_S3A_PWM_Probabilities.csv\", index=False, float_format=\"%.6f\")"
   ]
  },
  {
   "cell_type": "markdown",
   "metadata": {},
   "source": [
    "### Figure 2C, Supplementary Figure 3A; Pyrimidine dinucleotide formation probabilities\n",
    "\n",
    "Given a sliding 2-bp window, calculate the probability of forming pyrimidine dinucleotides for PWMs of each transcription factor in non-UV and UV conditions. Then calculate the difference in the probability they form.\n",
    "\n",
    "When assembling the figures, the position with the largest difference will be colored. The color is based on a diverging color palette from -1 to 1. \n",
    "\n",
    "#### (1) Functions:"
   ]
  },
  {
   "cell_type": "code",
   "execution_count": 6,
   "metadata": {},
   "outputs": [],
   "source": [
    "def pydi_formation_probability(pwm: pd.DataFrame,\n",
    "                               prefix: str,\n",
    "                               pydi_tuples=uac.PYDI) -> pd.DataFrame:\n",
    "    \"\"\"Return probabilities for pyrimidine dinucelotide formation.\n",
    "\n",
    "    Calculates the probability of any pyrimidine dinucleotide forming across a\n",
    "    2-position sliding window for a PWM model. Returns a dataframe with the\n",
    "    first position in the window and the probability.\n",
    "    \"\"\"\n",
    "    # Create a list of probabilities at each 2-position window\n",
    "    probabilities = []\n",
    "    for i in range(len(pwm) - 1):\n",
    "        # Sum probabilities for each pyrimidine dinucleotide\n",
    "        any_pydi_probability = 0\n",
    "        for left, right in map(tuple, pydi_tuples):\n",
    "            any_pydi_probability += pwm[left][i] * pwm[right][i + 1]\n",
    "        probabilities.append((i, any_pydi_probability))\n",
    "    # Type cast the probabilities list into a dataframe\n",
    "    df = pd.DataFrame(probabilities)\n",
    "    df = df.rename(columns={0: \"First_Position\",\n",
    "                            1: f\"{prefix}_PyDi_Probability\"})\n",
    "    return df\n",
    "\n",
    "\n",
    "def compare_pydi_formation(protein_name: str,\n",
    "                           df_nuv: pd.DataFrame,\n",
    "                           df_uv: pd.DataFrame) -> pd.DataFrame:\n",
    "    \"\"\"Calculate the difference in pydi formation for a pair of pwm models.\n",
    "\n",
    "    Given a pwm model for non-UV and UV, determines the difference in the\n",
    "    probability of pyrimidine dinucleotide formation. Return a dataframe with\n",
    "    the differences between the two models. \n",
    "    \"\"\"\n",
    "    pdfa = pydi_formation_probability(df_nuv, \"NUV\")\n",
    "    pdfb = pydi_formation_probability(df_uv, \"UV\")\n",
    "    pdf = pd.merge(pdfa, pdfb, on=\"First_Position\")\n",
    "    pdf[\"NUV_minus_UV\"] = pdf[pdf.columns[1]] - pdf[pdf.columns[2]]\n",
    "    pdf[\"Absolute_Difference\"] = abs(pdf[\"NUV_minus_UV\"])\n",
    "    pdf[\"Comparison\"] = protein_name\n",
    "    return pdf\n",
    "\n",
    "def color_from_mpl_palette(palette: str,\n",
    "                           query_value: float,\n",
    "                           value_min: float,\n",
    "                           value_max: float) -> str:\n",
    "    \"\"\"Return the hex color code from a matplotlib color palette.\n",
    "    \n",
    "    Given a query value, the value range the pallette is being used for, and \n",
    "    the name of the matplotlib palette, returns a hex color code as a string for\n",
    "    the value.\n",
    "    \"\"\"\n",
    "    # Color map object\n",
    "    color_map = matplotlib.cm.get_cmap(palette)\n",
    "    # Get normalization of values based on value range\n",
    "    normalization = matplotlib.colors.Normalize(vmin=value_min, vmax=value_max)\n",
    "    # Output includes rgb and luminence but only rgb is needed for hex code\n",
    "    rgb_colors = color_map(normalization(query_value))[:3]\n",
    "    color = matplotlib.colors.rgb2hex(rgb_colors)\n",
    "    return color\n"
   ]
  },
  {
   "cell_type": "markdown",
   "metadata": {},
   "source": [
    "#### (2) Analysis:"
   ]
  },
  {
   "cell_type": "code",
   "execution_count": 7,
   "metadata": {},
   "outputs": [],
   "source": [
    "# Analysis\n",
    "results = [compare_pydi_formation(\n",
    "    x, pwm_dict[x][0], pwm_dict[x][1]) for x in pwm_dict]\n",
    "pydi_probabilities = pd.concat(results).reset_index(drop=True)\n",
    "# Add color information\n",
    "pydi_probabilities[\"Plot_Position\"] = pydi_probabilities[\"First_Position\"] + 1\n",
    "pydi_probabilities[\"Color_F2\"] = pydi_probabilities[\"NUV_minus_UV\"].apply(lambda x: color_from_mpl_palette(\"coolwarm\", x, -1, 1))\n",
    "pydi_probabilities[\"Color_F2S\"] = pydi_probabilities[\"NUV_minus_UV\"].apply(lambda x: DECREASE_COLOR if x >= 0 else INCREASE_COLOR)\n",
    "di = {DECREASE_COLOR:\"Decrease\", INCREASE_COLOR:\"Increase\"}\n",
    "pydi_probabilities[\"Group\"] = pydi_probabilities[\"Color_F2S\"].apply(lambda x: di[x])\n",
    "# Save results\n",
    "pydi_probabilities.to_csv(f\"{OUTPUT_FOLDER_SUPP}/Table_Probability_Diff.csv\", index=False)\n",
    "# Find max absolute difference and save to table\n",
    "max_differences = pydi_probabilities[[\"Comparison\", \"Absolute_Difference\"]].groupby(by=\"Comparison\").aggregate(np.max)\n",
    "max_differences = max_differences.reset_index()\n",
    "max_differences = max_differences.rename(columns={\"Absolute_Difference\":\"Max_Absolute_Difference\"})\n",
    "max_differences.to_csv(f\"{OUTPUT_FOLDER_F2}/Table_MaxAbsDiff.csv\")\n",
    "max_differences.to_csv(f\"{OUTPUT_FOLDER_SUPP}/Table_MaxAbsDiff.csv\")"
   ]
  },
  {
   "cell_type": "markdown",
   "metadata": {},
   "source": [
    "### Supplementary Figure 3A: Comparison of pyrimidine dinucleotide formation probabilities\n",
    "\n",
    "In figure 2, the largest change in pyrimidine dinucelotide formation was indicated with a highlighted position. For this figure, changes across the models are shown using a barplot above the PWM logos. The following code block generates a barplot for each transcription factor and saves it in svg format. "
   ]
  },
  {
   "cell_type": "code",
   "execution_count": 8,
   "metadata": {},
   "outputs": [],
   "source": [
    "for protein in list(set(pydi_probabilities[\"Comparison\"])):\n",
    "    # Subset the pydi_probabilities dataframe by a given protein\n",
    "    plot_source_df = pydi_probabilities.query(\"Comparison == @protein\").reset_index(drop=True)\n",
    "    # Create a Bokeh figure object and source from the plot_source_df\n",
    "    source=ColumnDataSource(plot_source_df)\n",
    "    p = figure(y_range=(0, 1),\n",
    "               x_range=(0, max(plot_source_df[\"Plot_Position\"]) + 1),\n",
    "               height=200,\n",
    "               width=400,\n",
    "               toolbar_location=None, tools=\"\")\n",
    "    # Draw the vertical bars in the bar plot\n",
    "    glyph = VBar(x=\"Plot_Position\",\n",
    "                 top=\"Absolute_Difference\",\n",
    "                 bottom=0, width=0.75,\n",
    "                 fill_color=\"Color_F2S\")\n",
    "    p.add_glyph(source, glyph)\n",
    "    # Give setting for grids, plot ticks, font, outlines\n",
    "    p.xgrid.grid_line_color = None\n",
    "    p.ygrid.grid_line_color = None\n",
    "    p.xaxis.minor_tick_line_color = None\n",
    "    p.yaxis.minor_tick_line_color = None\n",
    "    p.xaxis.major_tick_line_color = None\n",
    "    p.xaxis.major_label_text_font_size = '0pt'\n",
    "    p.yaxis.major_label_text_font_size = '0pt'\n",
    "    p.outline_line_width = 1\n",
    "    p.outline_line_color = 'black'\n",
    "    p.yaxis.ticker = []\n",
    "    p.xaxis.ticker = []\n",
    "    # Set output backend to svg and save\n",
    "    p.output_backend='svg'\n",
    "    export_svg(filename=f\"{OUTPUT_FOLDER_SUPP}/{protein}_PyDi_Barplot.svg\", obj=p)\n"
   ]
  },
  {
   "cell_type": "markdown",
   "metadata": {},
   "source": [
    "### Supplementary Figure 3B: Comparison of increasing and decreasing positions\n",
    "\n",
    "Across all positions for the 10 PWMs in Figure 2 and 2S, are the magnitudes in change different for increases and decreases? \n",
    "\n",
    "This analysis makes a boxplot of both groups and then runs a wilxocon rank-sum test to compare the groups. "
   ]
  },
  {
   "cell_type": "code",
   "execution_count": 9,
   "metadata": {},
   "outputs": [
    {
     "data": {
      "image/png": "[encoded data removed]",
      "text/plain": [
       "<Figure size 360x720 with 1 Axes>"
      ]
     },
     "metadata": {
      "needs_background": "light"
     },
     "output_type": "display_data"
    }
   ],
   "source": [
    "# Create and save boxplot of the 2 groups\n",
    "rcParams['figure.figsize'] = 5,10\n",
    "sns.boxplot(x=\"Group\",\n",
    "            y=\"Absolute_Difference\",\n",
    "            data=pydi_probabilities,\n",
    "            order=[\"Increase\", \"Decrease\"],\n",
    "            palette=['#8db0fe', '#f4987a'],\n",
    "            showfliers=False)\n",
    "plt.savefig(fname=f\"{OUTPUT_FOLDER_SUPP}/Absolute_Difference_Boxplot.svg\",format='svg')\n",
    "# Run rank sum test\n",
    "decrease = list(pydi_probabilities[pydi_probabilities[\"Color_F2S\"] == \"#f4987a\"][\"Absolute_Difference\"])\n",
    "increase = list(pydi_probabilities[pydi_probabilities[\"Color_F2S\"] == \"#8db0fe\"][\"Absolute_Difference\"])\n",
    "comparison_ranksum = stats.ranksums(decrease, increase)\n",
    "# Save result to a text file\n",
    "comparison_out = open(f\"{OUTPUT_FOLDER_SUPP}/Absolute_Difference_Boxplot_Statistics.txt\", 'w')\n",
    "comparison_out.write(f\"Rank Sum Statistics: {comparison_ranksum.statistic}\\nP-Value: {comparison_ranksum.pvalue}\")\n",
    "comparison_out.close()"
   ]
  },
  {
   "cell_type": "markdown",
   "metadata": {},
   "source": [
    "### Color bar for use in Figure 2"
   ]
  },
  {
   "cell_type": "code",
   "execution_count": 10,
   "metadata": {},
   "outputs": [
    {
     "data": {
      "image/png": "[encoded data removed]",
      "text/html": [
       "<div style=\"vertical-align: middle;\"><strong>coolwarm</strong> </div><div class=\"cmap\"><img alt=\"coolwarm colormap\" title=\"coolwarm\" style=\"border: 1px solid #555;\" src=\"data:image/png;base64,iVBORw0KGgoAAAANSUhEUgAAAgAAAABACAYAAABsv8+/AAAAF3RFWHRUaXRsZQBjb29sd2FybSBjb2xvcm1hcPHW9i4AAAAddEVYdERlc2NyaXB0aW9uAGNvb2x3YXJtIGNvbG9ybWFw2KgRBwAAADB0RVh0QXV0aG9yAE1hdHBsb3RsaWIgdjMuNS4xLCBodHRwczovL21hdHBsb3RsaWIub3Jn97fOzwAAADJ0RVh0U29mdHdhcmUATWF0cGxvdGxpYiB2My41LjEsIGh0dHBzOi8vbWF0cGxvdGxpYi5vcmfZEVHoAAACIUlEQVR4nO3WO3LbQBBF0QaW5TV40d6XTIwTCCo2MQQYOHrnJKr5NRip7vLr959RVbUsS1VVLetaVVXr+rzu50s7X2fnt+cu+/n5/nF+8Z315buz9/3310fzXvfrfP73nOn8mnzv+f7xfva9/bzPu9w/vnM+b36v3t+72J/fGxfvx739mt1v82tyXv13jPO5x7175y/fm53f3F/7fm333vf7o+2P7cP18371e+P9nOrvR/995/e+59ZkPZ17rN/fO+Zufe75vdr67znfv3o3tnv3Lt/t69HW3+fH/Zc579+/rLc2r82fzevf7/ePv+Pq3uTdf9rfHu/v/5y3e/v+1uc/tud3j8m84/0+72tf/x2frb+e/18BAEEEAAAEEgAAEEgAAEAgAQAAgQQAAAQSAAAQSAAAQCABAACBBAAABBIAABBIAABAIAEAAIEEAAAEEgAAEEgAAEAgAQAAgQQAAAQSAAAQSAAAQCABAACBBAAABBIAABBIAABAIAEAAIEEAAAEEgAAEEgAAEAgAQAAgQQAAAQSAAAQSAAAQCABAACBBAAABBIAABBIAABAIAEAAIEEAAAEEgAAEEgAAEAgAQAAgQQAAAQSAAAQSAAAQCABAACBBAAABBIAABBIAABAIAEAAIEEAAAEEgAAEEgAAEAgAQAAgQQAAAQSAAAQSAAAQCABAACBBAAABBIAABBIAABAIAEAAIEEAAAEEgAAEOgf6GZUalYlbg8AAAAASUVORK5CYII=\"></div><div style=\"vertical-align: middle; max-width: 514px; display: flex; justify-content: space-between;\"><div style=\"float: left;\"><div title=\"#3b4cc0ff\" style=\"display: inline-block; width: 1em; height: 1em; margin: 0; vertical-align: middle; border: 1px solid #555; background-color: #3b4cc0ff;\"></div> under</div><div style=\"margin: 0 auto; display: inline-block;\">bad <div title=\"#00000000\" style=\"display: inline-block; width: 1em; height: 1em; margin: 0; vertical-align: middle; border: 1px solid #555; background-color: #00000000;\"></div></div><div style=\"float: right;\">over <div title=\"#b40426ff\" style=\"display: inline-block; width: 1em; height: 1em; margin: 0; vertical-align: middle; border: 1px solid #555; background-color: #b40426ff;\"></div></div>"
      ],
      "text/plain": [
       "<matplotlib.colors.LinearSegmentedColormap at 0x7f1e189dfb80>"
      ]
     },
     "execution_count": 10,
     "metadata": {},
     "output_type": "execute_result"
    }
   ],
   "source": [
    "matplotlib.cm.get_cmap(\"coolwarm\")"
   ]
  },
  {
   "cell_type": "markdown",
   "metadata": {},
   "source": [
    "### Supplementary Figure 3C\n",
    "\n",
    "In Figure 2B and Supplementary Figure 3A, there are 2 pairs of TFs that belong to the same structural family: \n",
    "1. ETS1 and ELK1\n",
    "2. MITF and MYC\n",
    "\n",
    "This subfigure compares the changes in the probability of forming a pyrimidine dinucleotide for both family members with a scatterplot and regression.\n",
    "\n",
    "#### (1) Organize data to be plotted"
   ]
  },
  {
   "cell_type": "code",
   "execution_count": 15,
   "metadata": {},
   "outputs": [
    {
     "data": {
      "text/html": [
       "<div>\n",
       "<style scoped>\n",
       "    .dataframe tbody tr th:only-of-type {\n",
       "        vertical-align: middle;\n",
       "    }\n",
       "\n",
       "    .dataframe tbody tr th {\n",
       "        vertical-align: top;\n",
       "    }\n",
       "\n",
       "    .dataframe thead th {\n",
       "        text-align: right;\n",
       "    }\n",
       "</style>\n",
       "<table border=\"1\" class=\"dataframe\">\n",
       "  <thead>\n",
       "    <tr style=\"text-align: right;\">\n",
       "      <th>Comparison</th>\n",
       "      <th>First_Position</th>\n",
       "      <th>ELK1</th>\n",
       "      <th>ETS1</th>\n",
       "      <th>MITF</th>\n",
       "      <th>MYC</th>\n",
       "    </tr>\n",
       "  </thead>\n",
       "  <tbody>\n",
       "    <tr>\n",
       "      <th>0</th>\n",
       "      <td>0</td>\n",
       "      <td>2.762709</td>\n",
       "      <td>-11.255490</td>\n",
       "      <td>-12.440979</td>\n",
       "      <td>-7.116536</td>\n",
       "    </tr>\n",
       "    <tr>\n",
       "      <th>1</th>\n",
       "      <td>1</td>\n",
       "      <td>-25.142806</td>\n",
       "      <td>-35.449041</td>\n",
       "      <td>62.107969</td>\n",
       "      <td>35.167365</td>\n",
       "    </tr>\n",
       "    <tr>\n",
       "      <th>2</th>\n",
       "      <td>2</td>\n",
       "      <td>-50.749924</td>\n",
       "      <td>-51.813712</td>\n",
       "      <td>-81.327780</td>\n",
       "      <td>-67.405876</td>\n",
       "    </tr>\n",
       "    <tr>\n",
       "      <th>3</th>\n",
       "      <td>3</td>\n",
       "      <td>-43.917548</td>\n",
       "      <td>-51.508945</td>\n",
       "      <td>-1.681766</td>\n",
       "      <td>-2.409431</td>\n",
       "    </tr>\n",
       "    <tr>\n",
       "      <th>4</th>\n",
       "      <td>4</td>\n",
       "      <td>0.826397</td>\n",
       "      <td>6.021103</td>\n",
       "      <td>-1.680481</td>\n",
       "      <td>-1.470782</td>\n",
       "    </tr>\n",
       "    <tr>\n",
       "      <th>5</th>\n",
       "      <td>5</td>\n",
       "      <td>1.435540</td>\n",
       "      <td>-1.042332</td>\n",
       "      <td>-0.677133</td>\n",
       "      <td>0.842602</td>\n",
       "    </tr>\n",
       "    <tr>\n",
       "      <th>6</th>\n",
       "      <td>6</td>\n",
       "      <td>3.488021</td>\n",
       "      <td>18.645356</td>\n",
       "      <td>-5.050161</td>\n",
       "      <td>0.622638</td>\n",
       "    </tr>\n",
       "    <tr>\n",
       "      <th>7</th>\n",
       "      <td>7</td>\n",
       "      <td>-26.632355</td>\n",
       "      <td>-22.978817</td>\n",
       "      <td>-5.707175</td>\n",
       "      <td>-1.113962</td>\n",
       "    </tr>\n",
       "    <tr>\n",
       "      <th>8</th>\n",
       "      <td>8</td>\n",
       "      <td>-46.047772</td>\n",
       "      <td>-8.550563</td>\n",
       "      <td>-81.365763</td>\n",
       "      <td>-68.331156</td>\n",
       "    </tr>\n",
       "    <tr>\n",
       "      <th>9</th>\n",
       "      <td>9</td>\n",
       "      <td>NaN</td>\n",
       "      <td>NaN</td>\n",
       "      <td>62.107969</td>\n",
       "      <td>35.167365</td>\n",
       "    </tr>\n",
       "    <tr>\n",
       "      <th>10</th>\n",
       "      <td>10</td>\n",
       "      <td>NaN</td>\n",
       "      <td>NaN</td>\n",
       "      <td>-12.440979</td>\n",
       "      <td>-7.116536</td>\n",
       "    </tr>\n",
       "  </tbody>\n",
       "</table>\n",
       "</div>"
      ],
      "text/plain": [
       "Comparison  First_Position       ELK1       ETS1       MITF        MYC\n",
       "0                        0   2.762709 -11.255490 -12.440979  -7.116536\n",
       "1                        1 -25.142806 -35.449041  62.107969  35.167365\n",
       "2                        2 -50.749924 -51.813712 -81.327780 -67.405876\n",
       "3                        3 -43.917548 -51.508945  -1.681766  -2.409431\n",
       "4                        4   0.826397   6.021103  -1.680481  -1.470782\n",
       "5                        5   1.435540  -1.042332  -0.677133   0.842602\n",
       "6                        6   3.488021  18.645356  -5.050161   0.622638\n",
       "7                        7 -26.632355 -22.978817  -5.707175  -1.113962\n",
       "8                        8 -46.047772  -8.550563 -81.365763 -68.331156\n",
       "9                        9        NaN        NaN  62.107969  35.167365\n",
       "10                      10        NaN        NaN -12.440979  -7.116536"
      ]
     },
     "execution_count": 15,
     "metadata": {},
     "output_type": "execute_result"
    }
   ],
   "source": [
    "# Define TFs to query for and subset relevant columns\n",
    "comparison_tfs = set([\"ELK1\", \"ETS1\", \"MYC\", \"MITF\"])\n",
    "comparison_df = pydi_probabilities[[\"First_Position\", \"NUV_minus_UV\", \"Comparison\"]]\n",
    "comparison_df = comparison_df[comparison_df[\"Comparison\"].isin(comparison_tfs)].reset_index(drop=True)\n",
    "# Pivot the table to wide-format for plotting\n",
    "plot_df = pd.pivot(comparison_df, index=\"First_Position\", columns=\"Comparison\", values = \"NUV_minus_UV\").reset_index()\n",
    "# Have a positive value indicate an increase in pyrimidine dinucleotide formation instead of a decrease\n",
    "for i in [\"ELK1\", \"ETS1\", \"MYC\", \"MITF\"]:\n",
    "    plot_df[i] = plot_df[i] * -1\n",
    "    plot_df[i] = plot_df[i] * 100\n",
    "# Display plot dataframe\n",
    "plot_df"
   ]
  },
  {
   "cell_type": "markdown",
   "metadata": {},
   "source": [
    "#### (2) Linear regression for each pair"
   ]
  },
  {
   "cell_type": "code",
   "execution_count": 16,
   "metadata": {},
   "outputs": [
    {
     "name": "stdout",
     "output_type": "stream",
     "text": [
      "bHLH: 0.9707187063337176\n"
     ]
    }
   ],
   "source": [
    "# bHLH\n",
    "res = scipy.stats.linregress(plot_df[\"MITF\"], plot_df[\"MYC\"])\n",
    "print(\"bHLH:\", res.rvalue ** 2)"
   ]
  },
  {
   "cell_type": "code",
   "execution_count": 17,
   "metadata": {},
   "outputs": [
    {
     "name": "stdout",
     "output_type": "stream",
     "text": [
      "ETS 0.6202397439817386\n"
     ]
    }
   ],
   "source": [
    "# ETS\n",
    "res = scipy.stats.linregress(plot_df[\"ETS1\"].dropna(), plot_df[\"ELK1\"].dropna())\n",
    "print(\"ETS\", res.rvalue ** 2)"
   ]
  },
  {
   "cell_type": "markdown",
   "metadata": {},
   "source": [
    "#### (3) Create and save plots"
   ]
  },
  {
   "cell_type": "code",
   "execution_count": 19,
   "metadata": {},
   "outputs": [
    {
     "data": {
      "image/png": "[encoded data removed]",
      "text/plain": [
       "<Figure size 360x360 with 1 Axes>"
      ]
     },
     "metadata": {
      "needs_background": "light"
     },
     "output_type": "display_data"
    }
   ],
   "source": [
    "rcParams['figure.figsize'] = 5, 5\n",
    "sns.regplot(x=\"MITF\", y=\"MYC\",\n",
    "            data=plot_df,\n",
    "            color='black')\n",
    "plt.xlim(-90, 70)\n",
    "plt.ylim(-90, 70)\n",
    "plt.savefig(f\"{OUTPUT_FOLDER_SUPP}/MITFvsMYC_Regplot.svg\", format='svg')"
   ]
  },
  {
   "cell_type": "code",
   "execution_count": 21,
   "metadata": {},
   "outputs": [
    {
     "data": {
      "image/png": "[encoded data removed]",
      "text/plain": [
       "<Figure size 360x360 with 1 Axes>"
      ]
     },
     "metadata": {
      "needs_background": "light"
     },
     "output_type": "display_data"
    }
   ],
   "source": [
    "# For reference - plot labels\n",
    "rcParams['figure.figsize'] = 5, 5\n",
    "sns.regplot(x=\"MITF\", y=\"MYC\",\n",
    "            data=plot_df,\n",
    "            color='black',\n",
    "            scatter=False)\n",
    "for row in plot_df.itertuples():\n",
    "    plt.text(row.MITF, row.MYC, row.First_Position + 1)\n",
    "plt.xlim(-90, 70)\n",
    "plt.ylim(-90, 70)\n",
    "plt.savefig(f\"{OUTPUT_FOLDER_SUPP}/MITFvsMYC_Regplot_labels.svg\", format='svg')"
   ]
  },
  {
   "cell_type": "code",
   "execution_count": 22,
   "metadata": {},
   "outputs": [
    {
     "data": {
      "image/png": "[encoded data removed]",
      "text/plain": [
       "<Figure size 360x360 with 1 Axes>"
      ]
     },
     "metadata": {
      "needs_background": "light"
     },
     "output_type": "display_data"
    }
   ],
   "source": [
    "rcParams['figure.figsize'] = 5, 5\n",
    "sns.regplot(x=\"ETS1\",\n",
    "            y=\"ELK1\",\n",
    "            color='black',\n",
    "            data=plot_df)\n",
    "plt.xlim(-58, 25)\n",
    "plt.ylim(-58, 25)\n",
    "plt.savefig(f\"{OUTPUT_FOLDER_SUPP}/ETS1vELK1_Regplot.svg\", format='svg')"
   ]
  },
  {
   "cell_type": "code",
   "execution_count": 32,
   "metadata": {},
   "outputs": [
    {
     "data": {
      "image/png": "[encoded data removed]",
      "text/plain": [
       "<Figure size 360x360 with 1 Axes>"
      ]
     },
     "metadata": {
      "needs_background": "light"
     },
     "output_type": "display_data"
    }
   ],
   "source": [
    "rcParams['figure.figsize'] = 5, 5\n",
    "sns.regplot(x=\"ETS1\",\n",
    "            y=\"ELK1\",\n",
    "            color='black',\n",
    "            data=plot_df,\n",
    "            scatter=False)\n",
    "plt.xlim(-58, 25)\n",
    "plt.ylim(-58, 25)\n",
    "for row in plot_df.itertuples():\n",
    "    if np.isnan(row.ETS1) == False:\n",
    "        plt.text(row.ETS1, row.ELK1, row.First_Position + 1)\n",
    "plt.savefig(f\"{OUTPUT_FOLDER_SUPP}/ETS1vELK1_Regplot_labels.svg\", format='svg')"
   ]
  }
 ],
 "metadata": {
  "kernelspec": {
   "display_name": "Python 3 (ipykernel)",
   "language": "python",
   "name": "python3"
  },
  "language_info": {
   "codemirror_mode": {
    "name": "ipython",
    "version": 3
   },
   "file_extension": ".py",
   "mimetype": "text/x-python",
   "name": "python",
   "nbconvert_exporter": "python",
   "pygments_lexer": "ipython3",
   "version": "3.9.12"
  }
 },
 "nbformat": 4,
 "nbformat_minor": 4
}
