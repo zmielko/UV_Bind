{
 "cells": [
  {
   "cell_type": "code",
   "execution_count": 1,
   "metadata": {},
   "outputs": [
    {
     "name": "stdout",
     "output_type": "stream",
     "text": [
      "Array design passed all tests.\n"
     ]
    }
   ],
   "source": [
    "import itertools\n",
    "import pandas as pd\n",
    "from jellyfish import hamming_distance\n",
    "from Bio.Seq import reverse_complement\n",
    "from arrayDesignFunctions import *\n",
    "\n",
    "\n",
    "if __name__ == '__main__':\n",
    "    # Constants\n",
    "    ARRAY_DESIGN_FILE = \"../Array_Design_Full.txt\"\n",
    "    POS_PROBES_FILE = \"../Sequence_Designs/Positional_Probes.csv\"\n",
    "    ARRAY_INFO_LIST = [\"ArrayInfo_085438.txt\", \"ArrayInfo_085400.txt\", \"ArrayInfo_084702.txt\"]\n",
    "    PRIMER = \"CGCACACATACACATACACACATACACATACGCAC\"\n",
    "    MAX_LEN = 175906\n",
    "    HAMMING_DIST_SEQ = \"GGAAATTCCC\"\n",
    "    # Tests for the array design\n",
    "    uvArrayDF = pd.read_csv(ARRAY_DESIGN_FILE, sep = '\\t', header = None)\n",
    "    uvArrayDF = uvArrayDF.rename(columns={1:\"Sequence\", 2:\"Description\"})\n",
    "    for seq, desc in zip(uvArrayDF[\"Sequence\"], uvArrayDF[\"Description\"]):\n",
    "        testProbeLenMatchDesc(seq, desc)\n",
    "        testProbePrimer(seq, PRIMER)\n",
    "        testMultiDNDescription(seq, desc)\n",
    "        testFlankingProbe(seq, desc)\n",
    "    testPosProbes(uvArrayDF, POS_PROBES_FILE)\n",
    "    testDeBruijnProbes(uvArrayDF, ARRAY_INFO_LIST)\n",
    "    testClusterDescription(uvArrayDF)\n",
    "    testClusterDistanceDescription(uvArrayDF, HAMMING_DIST_SEQ)\n",
    "    if len(uvArrayDF) > MAX_LEN:\n",
    "        raise ValueError(f\"Too many probes on the array.\\nCurrently: {len(uvArrayDF)}\\nMax: {MAX_LEN}\")\n",
    "    print(\"Array design passed all tests.\")"
   ]
  },
  {
   "cell_type": "code",
   "execution_count": null,
   "metadata": {},
   "outputs": [],
   "source": []
  }
 ],
 "metadata": {
  "kernelspec": {
   "display_name": "Python 3 (ipykernel)",
   "language": "python",
   "name": "python3"
  },
  "language_info": {
   "codemirror_mode": {
    "name": "ipython",
    "version": 3
   },
   "file_extension": ".py",
   "mimetype": "text/x-python",
   "name": "python",
   "nbconvert_exporter": "python",
   "pygments_lexer": "ipython3",
   "version": "3.9.12"
  }
 },
 "nbformat": 4,
 "nbformat_minor": 4
}
