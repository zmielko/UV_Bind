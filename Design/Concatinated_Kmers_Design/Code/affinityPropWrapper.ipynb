{
 "cells": [
  {
   "cell_type": "code",
   "execution_count": 6,
   "metadata": {},
   "outputs": [],
   "source": [
    "import subprocess\n",
    "import sys\n",
    "import os\n",
    "import glob\n",
    "if __name__ == '__main__':\n",
    "    files = glob.glob(\"../Data/Diff_UV_Probes/*.tsv\")\n",
    "    for file in files:\n",
    "        data_name = file.split('/')[-1][:-4]\n",
    "        output_cluster = f\"../Data/Diff_UV_Probes/{data_name}_cluster.tsv\"\n",
    "        output_matrix = f\"../Data/Diff_UV_Probes/{data_name}_distance_matrix.npz\"\n",
    "        command_list = [\"python\",\n",
    "                        \"affinityProp.py\",\n",
    "                        \"-i\",\n",
    "                        file,\n",
    "                        \"-oC\",\n",
    "                        output_cluster,\n",
    "                        \"-oM\",\n",
    "                        output_matrix,\n",
    "                       \"-c\",\n",
    "                       '5',\n",
    "                       \"-r\",\n",
    "                       '0']\n",
    "        affinityProp = subprocess.Popen(command_list)\n",
    "        affinityProp.communicate()\n"
   ]
  },
  {
   "cell_type": "code",
   "execution_count": null,
   "metadata": {},
   "outputs": [],
   "source": []
  }
 ],
 "metadata": {
  "kernelspec": {
   "display_name": "Python 3",
   "language": "python",
   "name": "python3"
  },
  "language_info": {
   "codemirror_mode": {
    "name": "ipython",
    "version": 3
   },
   "file_extension": ".py",
   "mimetype": "text/x-python",
   "name": "python",
   "nbconvert_exporter": "python",
   "pygments_lexer": "ipython3",
   "version": "3.8.5"
  }
 },
 "nbformat": 4,
 "nbformat_minor": 4
}
