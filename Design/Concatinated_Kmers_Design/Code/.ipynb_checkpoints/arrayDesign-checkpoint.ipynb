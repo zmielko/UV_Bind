{
 "cells": [
  {
   "cell_type": "code",
   "execution_count": 1,
   "metadata": {},
   "outputs": [],
   "source": [
    "import itertools\n",
    "import pandas as pd\n",
    "from jellyfish import hamming_distance\n",
    "from Bio.Seq import reverse_complement\n",
    "from arrayDesignFunctions import *\n",
    "\n",
    "\n",
    "if __name__ == '__main__':\n",
    "    # Constants \n",
    "    DINUC_LIST = [''.join(p) for p in itertools.product(['A', 'C', 'G', 'T'], repeat=2)]\n",
    "    TETRANUC_LIST = [''.join(p) for p in itertools.product(['A', 'C', 'G', 'T'], repeat=4)]\n",
    "    PRIMER = \"CGCACACATACACATACACACATACACATACGCAC\"\n",
    "    NAME_LIST = [\"TBP\", \"EGR1\", \"CREB1\"]\n",
    "    KMER_LOC_LIST = [\"../Data/TBP_28_29/TBP_28_29_kmerData.txt\",\n",
    "                   \"../Data/EGR1_2_3/EGR1_2_3_kmerData.txt\",\n",
    "                   \"../Data/CREB1_0_1/CREB1_0_1_kmerData.txt\"]\n",
    "                         \n",
    "    KMER_CLUST_LOC_LIST = [\"../Data/Diff_UV_Probes/TBP_25mers_cluster.tsv\",\n",
    "                       \"../Data/Diff_UV_Probes/EGR1_25mers_cluster.tsv\",\n",
    "                       \"../Data/Diff_UV_Probes/CREB1_25mers_cluster.tsv\"]\n",
    "                         \n",
    "    SHORT_EXT_CLUST_LOC_LIST = [\"../Data/Diff_UV_Probes/TBP_extShort_cluster.tsv\",\n",
    "                            \"../Data/Diff_UV_Probes/EGR1_extShort_cluster.tsv\",\n",
    "                            \"../Data/Diff_UV_Probes/CREB1_extShort_cluster.tsv\"]     \n",
    "    ARRAY_INFO_LIST = [\"ArrayInfo_085438.txt\", \"ArrayInfo_085400.txt\", \"ArrayInfo_084702.txt\"]\n",
    "    DINUC_MUT_FILE = \"../Sequence_Designs/Dinucleotide_Mutations.csv\"\n",
    "    FLANK_FILE = \"../Sequence_Designs/Flanks.csv\"\n",
    "    DEBRUIJN_FILE = f\"../Sequence_Designs/{ARRAY_INFO_LIST[0]}\"\n",
    "    KD_FILE = \"../Sequence_Designs/kD.csv\"\n",
    "    POS_PROBES_FILE = \"../Sequence_Designs/Positional_Probes.csv\"\n",
    "    RELA_SEQ = \"GGAAATTCCC\"\n",
    "    # Generate Probe DataFrames\n",
    "    dinucMutDF = createDiProbes(DINUC_MUT_FILE, PRIMER, DINUC_LIST)\n",
    "    flankMutDF = createFlankProbes(FLANK_FILE, PRIMER, TETRANUC_LIST)\n",
    "    deBruDF = extractDeBruijn(DEBRUIJN_FILE)\n",
    "    kDDF = createKDProbes(KD_FILE, PRIMER)\n",
    "    posProbeDF = createPositionalProbes(POS_PROBES_FILE, PRIMER)\n",
    "    clustDiffDF = createClustDiffProbesFromLists(NAME_LIST,\n",
    "                                                 KMER_LOC_LIST,\n",
    "                                                 KMER_CLUST_LOC_LIST,\n",
    "                                                 SHORT_EXT_CLUST_LOC_LIST,\n",
    "                                                 PRIMER,\n",
    "                                                 3)\n",
    "    clustCloseDF = createClustCloseProbesFromLists(NAME_LIST,\n",
    "                                                   KMER_LOC_LIST,\n",
    "                                                   KMER_CLUST_LOC_LIST,\n",
    "                                                   SHORT_EXT_CLUST_LOC_LIST,\n",
    "                                                   RELA_SEQ,\n",
    "                                                   50,\n",
    "                                                   PRIMER,\n",
    "                                                   3)\n",
    "    # Combine pandas DataFrames of probes\n",
    "    dfList = [dinucMutDF,flankMutDF,deBruDF,kDDF,posProbeDF,clustDiffDF,clustCloseDF]\n",
    "    uvArrayDF = pd.concat(dfList)\n",
    "    # Save output\n",
    "    saveUniqueProbes(uvArrayDF)\n",
    "    saveAgilentFormattedArray(uvArrayDF)"
   ]
  },
  {
   "cell_type": "code",
   "execution_count": null,
   "metadata": {},
   "outputs": [],
   "source": []
  }
 ],
 "metadata": {
  "kernelspec": {
   "display_name": "Python 3",
   "language": "python",
   "name": "python3"
  },
  "language_info": {
   "codemirror_mode": {
    "name": "ipython",
    "version": 3
   },
   "file_extension": ".py",
   "mimetype": "text/x-python",
   "name": "python",
   "nbconvert_exporter": "python",
   "pygments_lexer": "ipython3",
   "version": "3.8.5"
  }
 },
 "nbformat": 4,
 "nbformat_minor": 4
}
